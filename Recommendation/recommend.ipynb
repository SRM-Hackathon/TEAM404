{
  "nbformat": 4,
  "nbformat_minor": 0,
  "metadata": {
    "colab": {
      "name": "recommend.ipynb",
      "provenance": [],
      "collapsed_sections": []
    },
    "kernelspec": {
      "name": "python3",
      "display_name": "Python 3"
    },
    "accelerator": "GPU"
  },
  "cells": [
    {
      "cell_type": "markdown",
      "metadata": {
        "id": "rhWbH58uS5tN",
        "colab_type": "text"
      },
      "source": [
        "# recommendation "
      ]
    },
    {
      "cell_type": "code",
      "metadata": {
        "id": "8VWA7_FJGjqV",
        "colab_type": "code",
        "colab": {}
      },
      "source": [
        "import random\n",
        "import pandas as pd\n",
        "import numpy as np\n",
        "import matplotlib.pyplot as plt\n",
        "import seaborn as sns\n",
        "from sklearn.decomposition import PCA as pca\n",
        "from sklearn.preprocessing import StandardScaler"
      ],
      "execution_count": 0,
      "outputs": []
    },
    {
      "cell_type": "code",
      "metadata": {
        "id": "8bQ6AROMyvtF",
        "colab_type": "code",
        "colab": {}
      },
      "source": [
        "pca = pca(n_components=1)"
      ],
      "execution_count": 0,
      "outputs": []
    },
    {
      "cell_type": "markdown",
      "metadata": {
        "id": "4m6-8hMsK-8T",
        "colab_type": "text"
      },
      "source": [
        "### Simulation of data for Recommender system"
      ]
    },
    {
      "cell_type": "code",
      "metadata": {
        "id": "KSf_2cM0sKFe",
        "colab_type": "code",
        "colab": {}
      },
      "source": [
        "ts = [random.choice([round(np.random.normal(loc=60,scale=10)) for i in range(40)]+[round(np.random.normal(loc=120,scale=30)) for i in range(10)]+[random.randint(0,20) for i in range(50)]) for i in range(1000)]\n",
        "freq = [round(random.choice([np.random.normal(loc=5,scale=2) for i in range(10)]+[random.randint(0,1) for i in range(20)])) for i in range(1000)]\n",
        "df = pd.DataFrame(zip(ts,freq),columns=['ts','freq'])\n",
        "for i in range(1000):\n",
        "  if(df['ts'][i]<5):\n",
        "    df['freq'][i] = 0\n",
        "  if df['ts'][i] > 80:\n",
        "    df['freq'][i] = random.choice([1,2,3])\n",
        "  elif df['ts'][i]>30 and df['ts'][i]<80 :\n",
        "    df['freq'][i] = random.choice([2,3,4])"
      ],
      "execution_count": 0,
      "outputs": []
    },
    {
      "cell_type": "code",
      "metadata": {
        "id": "FIapt0FENoEc",
        "colab_type": "code",
        "outputId": "b83d486b-1e33-4ea1-f256-a5a69b98a624",
        "colab": {
          "base_uri": "https://localhost:8080/",
          "height": 206
        }
      },
      "source": [
        "df.head()"
      ],
      "execution_count": 4,
      "outputs": [
        {
          "output_type": "execute_result",
          "data": {
            "text/html": [
              "<div>\n",
              "<style scoped>\n",
              "    .dataframe tbody tr th:only-of-type {\n",
              "        vertical-align: middle;\n",
              "    }\n",
              "\n",
              "    .dataframe tbody tr th {\n",
              "        vertical-align: top;\n",
              "    }\n",
              "\n",
              "    .dataframe thead th {\n",
              "        text-align: right;\n",
              "    }\n",
              "</style>\n",
              "<table border=\"1\" class=\"dataframe\">\n",
              "  <thead>\n",
              "    <tr style=\"text-align: right;\">\n",
              "      <th></th>\n",
              "      <th>ts</th>\n",
              "      <th>freq</th>\n",
              "    </tr>\n",
              "  </thead>\n",
              "  <tbody>\n",
              "    <tr>\n",
              "      <th>0</th>\n",
              "      <td>110</td>\n",
              "      <td>2</td>\n",
              "    </tr>\n",
              "    <tr>\n",
              "      <th>1</th>\n",
              "      <td>13</td>\n",
              "      <td>0</td>\n",
              "    </tr>\n",
              "    <tr>\n",
              "      <th>2</th>\n",
              "      <td>59</td>\n",
              "      <td>3</td>\n",
              "    </tr>\n",
              "    <tr>\n",
              "      <th>3</th>\n",
              "      <td>7</td>\n",
              "      <td>1</td>\n",
              "    </tr>\n",
              "    <tr>\n",
              "      <th>4</th>\n",
              "      <td>3</td>\n",
              "      <td>0</td>\n",
              "    </tr>\n",
              "  </tbody>\n",
              "</table>\n",
              "</div>"
            ],
            "text/plain": [
              "    ts  freq\n",
              "0  110     2\n",
              "1   13     0\n",
              "2   59     3\n",
              "3    7     1\n",
              "4    3     0"
            ]
          },
          "metadata": {
            "tags": []
          },
          "execution_count": 4
        }
      ]
    },
    {
      "cell_type": "markdown",
      "metadata": {
        "id": "QcSeBbYTVReA",
        "colab_type": "text"
      },
      "source": [
        "ts:time_spent in a store\n",
        "freq: freq of visiting a store"
      ]
    },
    {
      "cell_type": "code",
      "metadata": {
        "id": "NtachQb3NmeM",
        "colab_type": "code",
        "colab": {}
      },
      "source": [
        "x = df.values\n",
        "x = StandardScaler().fit_transform(x)\n",
        "principalComponents = pca.fit_transform(x)\n",
        "principalComponents = [i[0] for i in principalComponents]\n",
        "fdfc = pd.DataFrame(df['freq'].values,columns=['freq'])\n",
        "pdfc = pd.DataFrame(zip(principalComponents,ts,freq),columns=['pcaval','ts','freq'])"
      ],
      "execution_count": 0,
      "outputs": []
    },
    {
      "cell_type": "code",
      "metadata": {
        "id": "EJzTSxAqsu0q",
        "colab_type": "code",
        "outputId": "61e862e9-8602-4255-ff41-4af935bbba03",
        "colab": {
          "base_uri": "https://localhost:8080/",
          "height": 444
        }
      },
      "source": [
        "fig1,ax1 = plt.subplots(figsize=(12,7))\n",
        "sns.heatmap(pdfc.corr(method='spearman'),annot=True)\n",
        "ax1.set_title('Correlation Heatmap')\n",
        "plt.show()"
      ],
      "execution_count": 6,
      "outputs": [
        {
          "output_type": "display_data",
          "data": {
            "image/png": "[encoded data removed]",
            "text/plain": [
              "<Figure size 864x504 with 2 Axes>"
            ]
          },
          "metadata": {
            "tags": []
          }
        }
      ]
    },
    {
      "cell_type": "markdown",
      "metadata": {
        "id": "2jzibOUSLR2e",
        "colab_type": "text"
      },
      "source": [
        "### In the data,we have two features time spent and frequency for every user for every store. This creates 3 dimensions. S0, PCA is applied on those two features and a pca value is found.The above correlation heatmap suggests that there is a strong corr btwn pcaval and ts.  "
      ]
    },
    {
      "cell_type": "code",
      "metadata": {
        "id": "TMtZOTHEmjeE",
        "colab_type": "code",
        "colab": {}
      },
      "source": [
        "pdf = pd.DataFrame()\n",
        "fdf = pd.DataFrame()\n",
        "for j in range(256):\n",
        "  ts = [random.choice([round(np.random.normal(loc=60,scale=10)) for i in range(40)]+[round(np.random.normal(loc=120,scale=30)) for i in range(10)]+[random.randint(0,20) for i in range(50)]) for i in range(1000)]\n",
        "  freq = [round(random.choice([np.random.normal(loc=5,scale=2) for i in range(10)]+[random.randint(0,1) for i in range(20)])) for i in range(1000)]\n",
        "  df = pd.DataFrame(zip(ts,freq),columns=['ts','freq'])\n",
        "  for i in range(1000):\n",
        "    if df['freq'][i] < 0:\n",
        "      df['freq'][i] == 1\n",
        "    if(df['ts'][i]<5):\n",
        "      df['freq'][i] = 0\n",
        "    if df['ts'][i] > 80:\n",
        "      df['freq'][i] = random.choice([1,2,3])\n",
        "    elif df['ts'][i]>30 and df['ts'][i]<80 :\n",
        "      df['freq'][i] = random.choice([2,3,4])\n",
        "\n",
        "  x = df.values\n",
        "  x = StandardScaler().fit_transform(x)\n",
        "  principalComponents = pca.fit_transform(x)\n",
        "  fdf.insert(j, str(j), df['freq'].values, True)\n",
        "  pdf.insert(j, str(j), [l[0] for l in principalComponents], True)"
      ],
      "execution_count": 0,
      "outputs": []
    },
    {
      "cell_type": "code",
      "metadata": {
        "id": "ZSI5fG16DNv2",
        "colab_type": "code",
        "colab": {}
      },
      "source": [
        "# top 5\n",
        "top5 = []\n",
        "c = list(range(1000))\n",
        "for i in range(1000):\n",
        "  l = sorted(zip(fdf.iloc[[i]].values[0].tolist(),c),reverse=True)[:5]\n",
        "  top5.append([i,l])\n",
        "  "
      ],
      "execution_count": 0,
      "outputs": []
    },
    {
      "cell_type": "markdown",
      "metadata": {
        "id": "Fy0wwFTXMEPS",
        "colab_type": "text"
      },
      "source": [
        "### The above or below code,both of these,can find top 5 stores that a user would want to visit."
      ]
    },
    {
      "cell_type": "code",
      "metadata": {
        "id": "EN_8zBIjEiRP",
        "colab_type": "code",
        "colab": {}
      },
      "source": [
        "#top5\n",
        "d = pd.DataFrame([[id for f,id in sorted([list(a) for a in zip(fdf.iloc[[i]].values[0].tolist(),c)],reverse=True)] for i in range(1000)])"
      ],
      "execution_count": 0,
      "outputs": []
    },
    {
      "cell_type": "code",
      "metadata": {
        "id": "RHUqgy83Ev9t",
        "colab_type": "code",
        "outputId": "9b745820-9cdd-4740-a798-a7194cb88e62",
        "colab": {
          "base_uri": "https://localhost:8080/",
          "height": 256
        }
      },
      "source": [
        "d.head()"
      ],
      "execution_count": 26,
      "outputs": [
        {
          "output_type": "execute_result",
          "data": {
            "text/html": [
              "<div>\n",
              "<style scoped>\n",
              "    .dataframe tbody tr th:only-of-type {\n",
              "        vertical-align: middle;\n",
              "    }\n",
              "\n",
              "    .dataframe tbody tr th {\n",
              "        vertical-align: top;\n",
              "    }\n",
              "\n",
              "    .dataframe thead th {\n",
              "        text-align: right;\n",
              "    }\n",
              "</style>\n",
              "<table border=\"1\" class=\"dataframe\">\n",
              "  <thead>\n",
              "    <tr style=\"text-align: right;\">\n",
              "      <th></th>\n",
              "      <th>0</th>\n",
              "      <th>1</th>\n",
              "      <th>2</th>\n",
              "      <th>3</th>\n",
              "      <th>4</th>\n",
              "      <th>5</th>\n",
              "      <th>6</th>\n",
              "      <th>7</th>\n",
              "      <th>8</th>\n",
              "      <th>9</th>\n",
              "      <th>10</th>\n",
              "      <th>11</th>\n",
              "      <th>12</th>\n",
              "      <th>13</th>\n",
              "      <th>14</th>\n",
              "      <th>15</th>\n",
              "      <th>16</th>\n",
              "      <th>17</th>\n",
              "      <th>18</th>\n",
              "      <th>19</th>\n",
              "      <th>20</th>\n",
              "      <th>21</th>\n",
              "      <th>22</th>\n",
              "      <th>23</th>\n",
              "      <th>24</th>\n",
              "      <th>25</th>\n",
              "      <th>26</th>\n",
              "      <th>27</th>\n",
              "      <th>28</th>\n",
              "      <th>29</th>\n",
              "      <th>30</th>\n",
              "      <th>31</th>\n",
              "      <th>32</th>\n",
              "      <th>33</th>\n",
              "      <th>34</th>\n",
              "      <th>35</th>\n",
              "      <th>36</th>\n",
              "      <th>37</th>\n",
              "      <th>38</th>\n",
              "      <th>39</th>\n",
              "      <th>...</th>\n",
              "      <th>216</th>\n",
              "      <th>217</th>\n",
              "      <th>218</th>\n",
              "      <th>219</th>\n",
              "      <th>220</th>\n",
              "      <th>221</th>\n",
              "      <th>222</th>\n",
              "      <th>223</th>\n",
              "      <th>224</th>\n",
              "      <th>225</th>\n",
              "      <th>226</th>\n",
              "      <th>227</th>\n",
              "      <th>228</th>\n",
              "      <th>229</th>\n",
              "      <th>230</th>\n",
              "      <th>231</th>\n",
              "      <th>232</th>\n",
              "      <th>233</th>\n",
              "      <th>234</th>\n",
              "      <th>235</th>\n",
              "      <th>236</th>\n",
              "      <th>237</th>\n",
              "      <th>238</th>\n",
              "      <th>239</th>\n",
              "      <th>240</th>\n",
              "      <th>241</th>\n",
              "      <th>242</th>\n",
              "      <th>243</th>\n",
              "      <th>244</th>\n",
              "      <th>245</th>\n",
              "      <th>246</th>\n",
              "      <th>247</th>\n",
              "      <th>248</th>\n",
              "      <th>249</th>\n",
              "      <th>250</th>\n",
              "      <th>251</th>\n",
              "      <th>252</th>\n",
              "      <th>253</th>\n",
              "      <th>254</th>\n",
              "      <th>255</th>\n",
              "    </tr>\n",
              "  </thead>\n",
              "  <tbody>\n",
              "    <tr>\n",
              "      <th>0</th>\n",
              "      <td>230</td>\n",
              "      <td>25</td>\n",
              "      <td>65</td>\n",
              "      <td>253</td>\n",
              "      <td>250</td>\n",
              "      <td>241</td>\n",
              "      <td>215</td>\n",
              "      <td>203</td>\n",
              "      <td>251</td>\n",
              "      <td>243</td>\n",
              "      <td>182</td>\n",
              "      <td>177</td>\n",
              "      <td>165</td>\n",
              "      <td>159</td>\n",
              "      <td>155</td>\n",
              "      <td>119</td>\n",
              "      <td>50</td>\n",
              "      <td>252</td>\n",
              "      <td>147</td>\n",
              "      <td>141</td>\n",
              "      <td>126</td>\n",
              "      <td>89</td>\n",
              "      <td>9</td>\n",
              "      <td>246</td>\n",
              "      <td>240</td>\n",
              "      <td>239</td>\n",
              "      <td>234</td>\n",
              "      <td>226</td>\n",
              "      <td>217</td>\n",
              "      <td>208</td>\n",
              "      <td>207</td>\n",
              "      <td>201</td>\n",
              "      <td>186</td>\n",
              "      <td>184</td>\n",
              "      <td>179</td>\n",
              "      <td>175</td>\n",
              "      <td>173</td>\n",
              "      <td>163</td>\n",
              "      <td>157</td>\n",
              "      <td>151</td>\n",
              "      <td>...</td>\n",
              "      <td>148</td>\n",
              "      <td>144</td>\n",
              "      <td>142</td>\n",
              "      <td>139</td>\n",
              "      <td>138</td>\n",
              "      <td>131</td>\n",
              "      <td>130</td>\n",
              "      <td>127</td>\n",
              "      <td>124</td>\n",
              "      <td>121</td>\n",
              "      <td>118</td>\n",
              "      <td>115</td>\n",
              "      <td>110</td>\n",
              "      <td>103</td>\n",
              "      <td>99</td>\n",
              "      <td>95</td>\n",
              "      <td>94</td>\n",
              "      <td>91</td>\n",
              "      <td>84</td>\n",
              "      <td>79</td>\n",
              "      <td>76</td>\n",
              "      <td>73</td>\n",
              "      <td>67</td>\n",
              "      <td>62</td>\n",
              "      <td>58</td>\n",
              "      <td>56</td>\n",
              "      <td>54</td>\n",
              "      <td>53</td>\n",
              "      <td>49</td>\n",
              "      <td>46</td>\n",
              "      <td>45</td>\n",
              "      <td>44</td>\n",
              "      <td>38</td>\n",
              "      <td>29</td>\n",
              "      <td>26</td>\n",
              "      <td>20</td>\n",
              "      <td>19</td>\n",
              "      <td>8</td>\n",
              "      <td>5</td>\n",
              "      <td>2</td>\n",
              "    </tr>\n",
              "    <tr>\n",
              "      <th>1</th>\n",
              "      <td>133</td>\n",
              "      <td>165</td>\n",
              "      <td>98</td>\n",
              "      <td>30</td>\n",
              "      <td>11</td>\n",
              "      <td>252</td>\n",
              "      <td>251</td>\n",
              "      <td>17</td>\n",
              "      <td>247</td>\n",
              "      <td>239</td>\n",
              "      <td>197</td>\n",
              "      <td>177</td>\n",
              "      <td>141</td>\n",
              "      <td>127</td>\n",
              "      <td>88</td>\n",
              "      <td>24</td>\n",
              "      <td>250</td>\n",
              "      <td>240</td>\n",
              "      <td>237</td>\n",
              "      <td>234</td>\n",
              "      <td>231</td>\n",
              "      <td>219</td>\n",
              "      <td>216</td>\n",
              "      <td>215</td>\n",
              "      <td>211</td>\n",
              "      <td>210</td>\n",
              "      <td>191</td>\n",
              "      <td>189</td>\n",
              "      <td>188</td>\n",
              "      <td>183</td>\n",
              "      <td>180</td>\n",
              "      <td>175</td>\n",
              "      <td>174</td>\n",
              "      <td>163</td>\n",
              "      <td>143</td>\n",
              "      <td>138</td>\n",
              "      <td>131</td>\n",
              "      <td>124</td>\n",
              "      <td>122</td>\n",
              "      <td>121</td>\n",
              "      <td>...</td>\n",
              "      <td>113</td>\n",
              "      <td>112</td>\n",
              "      <td>111</td>\n",
              "      <td>109</td>\n",
              "      <td>107</td>\n",
              "      <td>97</td>\n",
              "      <td>95</td>\n",
              "      <td>94</td>\n",
              "      <td>92</td>\n",
              "      <td>85</td>\n",
              "      <td>83</td>\n",
              "      <td>80</td>\n",
              "      <td>78</td>\n",
              "      <td>76</td>\n",
              "      <td>68</td>\n",
              "      <td>65</td>\n",
              "      <td>62</td>\n",
              "      <td>56</td>\n",
              "      <td>55</td>\n",
              "      <td>53</td>\n",
              "      <td>52</td>\n",
              "      <td>51</td>\n",
              "      <td>48</td>\n",
              "      <td>46</td>\n",
              "      <td>44</td>\n",
              "      <td>43</td>\n",
              "      <td>41</td>\n",
              "      <td>34</td>\n",
              "      <td>31</td>\n",
              "      <td>23</td>\n",
              "      <td>22</td>\n",
              "      <td>21</td>\n",
              "      <td>20</td>\n",
              "      <td>13</td>\n",
              "      <td>12</td>\n",
              "      <td>8</td>\n",
              "      <td>7</td>\n",
              "      <td>6</td>\n",
              "      <td>1</td>\n",
              "      <td>0</td>\n",
              "    </tr>\n",
              "    <tr>\n",
              "      <th>2</th>\n",
              "      <td>239</td>\n",
              "      <td>127</td>\n",
              "      <td>40</td>\n",
              "      <td>12</td>\n",
              "      <td>207</td>\n",
              "      <td>68</td>\n",
              "      <td>200</td>\n",
              "      <td>158</td>\n",
              "      <td>92</td>\n",
              "      <td>80</td>\n",
              "      <td>66</td>\n",
              "      <td>35</td>\n",
              "      <td>241</td>\n",
              "      <td>190</td>\n",
              "      <td>173</td>\n",
              "      <td>168</td>\n",
              "      <td>128</td>\n",
              "      <td>106</td>\n",
              "      <td>105</td>\n",
              "      <td>82</td>\n",
              "      <td>70</td>\n",
              "      <td>69</td>\n",
              "      <td>24</td>\n",
              "      <td>23</td>\n",
              "      <td>247</td>\n",
              "      <td>220</td>\n",
              "      <td>219</td>\n",
              "      <td>217</td>\n",
              "      <td>213</td>\n",
              "      <td>212</td>\n",
              "      <td>208</td>\n",
              "      <td>183</td>\n",
              "      <td>179</td>\n",
              "      <td>170</td>\n",
              "      <td>167</td>\n",
              "      <td>166</td>\n",
              "      <td>163</td>\n",
              "      <td>153</td>\n",
              "      <td>125</td>\n",
              "      <td>109</td>\n",
              "      <td>...</td>\n",
              "      <td>223</td>\n",
              "      <td>222</td>\n",
              "      <td>218</td>\n",
              "      <td>205</td>\n",
              "      <td>203</td>\n",
              "      <td>197</td>\n",
              "      <td>192</td>\n",
              "      <td>184</td>\n",
              "      <td>182</td>\n",
              "      <td>175</td>\n",
              "      <td>169</td>\n",
              "      <td>165</td>\n",
              "      <td>161</td>\n",
              "      <td>159</td>\n",
              "      <td>151</td>\n",
              "      <td>145</td>\n",
              "      <td>144</td>\n",
              "      <td>140</td>\n",
              "      <td>118</td>\n",
              "      <td>114</td>\n",
              "      <td>107</td>\n",
              "      <td>95</td>\n",
              "      <td>90</td>\n",
              "      <td>88</td>\n",
              "      <td>86</td>\n",
              "      <td>81</td>\n",
              "      <td>79</td>\n",
              "      <td>78</td>\n",
              "      <td>72</td>\n",
              "      <td>65</td>\n",
              "      <td>64</td>\n",
              "      <td>59</td>\n",
              "      <td>54</td>\n",
              "      <td>53</td>\n",
              "      <td>52</td>\n",
              "      <td>46</td>\n",
              "      <td>36</td>\n",
              "      <td>34</td>\n",
              "      <td>15</td>\n",
              "      <td>11</td>\n",
              "    </tr>\n",
              "    <tr>\n",
              "      <th>3</th>\n",
              "      <td>209</td>\n",
              "      <td>138</td>\n",
              "      <td>233</td>\n",
              "      <td>224</td>\n",
              "      <td>222</td>\n",
              "      <td>248</td>\n",
              "      <td>182</td>\n",
              "      <td>118</td>\n",
              "      <td>76</td>\n",
              "      <td>54</td>\n",
              "      <td>53</td>\n",
              "      <td>38</td>\n",
              "      <td>20</td>\n",
              "      <td>139</td>\n",
              "      <td>95</td>\n",
              "      <td>90</td>\n",
              "      <td>39</td>\n",
              "      <td>37</td>\n",
              "      <td>36</td>\n",
              "      <td>254</td>\n",
              "      <td>246</td>\n",
              "      <td>228</td>\n",
              "      <td>217</td>\n",
              "      <td>215</td>\n",
              "      <td>214</td>\n",
              "      <td>198</td>\n",
              "      <td>192</td>\n",
              "      <td>178</td>\n",
              "      <td>176</td>\n",
              "      <td>175</td>\n",
              "      <td>148</td>\n",
              "      <td>147</td>\n",
              "      <td>145</td>\n",
              "      <td>103</td>\n",
              "      <td>91</td>\n",
              "      <td>73</td>\n",
              "      <td>71</td>\n",
              "      <td>68</td>\n",
              "      <td>61</td>\n",
              "      <td>57</td>\n",
              "      <td>...</td>\n",
              "      <td>151</td>\n",
              "      <td>149</td>\n",
              "      <td>141</td>\n",
              "      <td>140</td>\n",
              "      <td>136</td>\n",
              "      <td>130</td>\n",
              "      <td>128</td>\n",
              "      <td>123</td>\n",
              "      <td>121</td>\n",
              "      <td>120</td>\n",
              "      <td>119</td>\n",
              "      <td>117</td>\n",
              "      <td>116</td>\n",
              "      <td>113</td>\n",
              "      <td>107</td>\n",
              "      <td>102</td>\n",
              "      <td>101</td>\n",
              "      <td>99</td>\n",
              "      <td>93</td>\n",
              "      <td>81</td>\n",
              "      <td>78</td>\n",
              "      <td>72</td>\n",
              "      <td>67</td>\n",
              "      <td>63</td>\n",
              "      <td>62</td>\n",
              "      <td>58</td>\n",
              "      <td>55</td>\n",
              "      <td>48</td>\n",
              "      <td>35</td>\n",
              "      <td>34</td>\n",
              "      <td>29</td>\n",
              "      <td>28</td>\n",
              "      <td>27</td>\n",
              "      <td>21</td>\n",
              "      <td>17</td>\n",
              "      <td>13</td>\n",
              "      <td>10</td>\n",
              "      <td>3</td>\n",
              "      <td>2</td>\n",
              "      <td>1</td>\n",
              "    </tr>\n",
              "    <tr>\n",
              "      <th>4</th>\n",
              "      <td>158</td>\n",
              "      <td>155</td>\n",
              "      <td>237</td>\n",
              "      <td>196</td>\n",
              "      <td>17</td>\n",
              "      <td>186</td>\n",
              "      <td>79</td>\n",
              "      <td>21</td>\n",
              "      <td>223</td>\n",
              "      <td>185</td>\n",
              "      <td>176</td>\n",
              "      <td>162</td>\n",
              "      <td>112</td>\n",
              "      <td>103</td>\n",
              "      <td>22</td>\n",
              "      <td>255</td>\n",
              "      <td>254</td>\n",
              "      <td>252</td>\n",
              "      <td>247</td>\n",
              "      <td>232</td>\n",
              "      <td>227</td>\n",
              "      <td>211</td>\n",
              "      <td>210</td>\n",
              "      <td>182</td>\n",
              "      <td>174</td>\n",
              "      <td>173</td>\n",
              "      <td>159</td>\n",
              "      <td>154</td>\n",
              "      <td>151</td>\n",
              "      <td>149</td>\n",
              "      <td>136</td>\n",
              "      <td>115</td>\n",
              "      <td>111</td>\n",
              "      <td>98</td>\n",
              "      <td>96</td>\n",
              "      <td>83</td>\n",
              "      <td>80</td>\n",
              "      <td>78</td>\n",
              "      <td>74</td>\n",
              "      <td>73</td>\n",
              "      <td>...</td>\n",
              "      <td>179</td>\n",
              "      <td>171</td>\n",
              "      <td>169</td>\n",
              "      <td>164</td>\n",
              "      <td>148</td>\n",
              "      <td>144</td>\n",
              "      <td>143</td>\n",
              "      <td>142</td>\n",
              "      <td>140</td>\n",
              "      <td>137</td>\n",
              "      <td>133</td>\n",
              "      <td>130</td>\n",
              "      <td>126</td>\n",
              "      <td>123</td>\n",
              "      <td>121</td>\n",
              "      <td>117</td>\n",
              "      <td>109</td>\n",
              "      <td>101</td>\n",
              "      <td>100</td>\n",
              "      <td>97</td>\n",
              "      <td>94</td>\n",
              "      <td>90</td>\n",
              "      <td>89</td>\n",
              "      <td>59</td>\n",
              "      <td>53</td>\n",
              "      <td>51</td>\n",
              "      <td>46</td>\n",
              "      <td>43</td>\n",
              "      <td>42</td>\n",
              "      <td>40</td>\n",
              "      <td>39</td>\n",
              "      <td>33</td>\n",
              "      <td>28</td>\n",
              "      <td>23</td>\n",
              "      <td>15</td>\n",
              "      <td>14</td>\n",
              "      <td>11</td>\n",
              "      <td>2</td>\n",
              "      <td>1</td>\n",
              "      <td>0</td>\n",
              "    </tr>\n",
              "  </tbody>\n",
              "</table>\n",
              "<p>5 rows × 256 columns</p>\n",
              "</div>"
            ],
            "text/plain": [
              "   0    1    2    3    4    5    6    ...  249  250  251  252  253  254  255\n",
              "0  230   25   65  253  250  241  215  ...   29   26   20   19    8    5    2\n",
              "1  133  165   98   30   11  252  251  ...   13   12    8    7    6    1    0\n",
              "2  239  127   40   12  207   68  200  ...   53   52   46   36   34   15   11\n",
              "3  209  138  233  224  222  248  182  ...   21   17   13   10    3    2    1\n",
              "4  158  155  237  196   17  186   79  ...   23   15   14   11    2    1    0\n",
              "\n",
              "[5 rows x 256 columns]"
            ]
          },
          "metadata": {
            "tags": []
          },
          "execution_count": 26
        }
      ]
    },
    {
      "cell_type": "code",
      "metadata": {
        "id": "irRqNkhB8JIx",
        "colab_type": "code",
        "colab": {}
      },
      "source": [
        "from sklearn.metrics.pairwise import cosine_similarity"
      ],
      "execution_count": 0,
      "outputs": []
    },
    {
      "cell_type": "code",
      "metadata": {
        "id": "jFUFHq39S3pB",
        "colab_type": "code",
        "colab": {}
      },
      "source": [
        "l = list(range(256))"
      ],
      "execution_count": 0,
      "outputs": []
    },
    {
      "cell_type": "markdown",
      "metadata": {
        "id": "bP8mPnTIMeeq",
        "colab_type": "text"
      },
      "source": [
        "### Implementing cosine similarity"
      ]
    },
    {
      "cell_type": "code",
      "metadata": {
        "id": "75frNpS0aY6E",
        "colab_type": "code",
        "colab": {}
      },
      "source": [
        "def cos_sim(a, b):\n",
        "    a = np.squeeze(np.asarray(a))\n",
        "    b = np.squeeze(np.asarray(b))\n",
        "    dot_product = np.dot(a, b)\n",
        "    norm_a = np.linalg.norm(a)\n",
        "    norm_b = np.linalg.norm(b)\n",
        "    return dot_product / (norm_a * norm_b)"
      ],
      "execution_count": 0,
      "outputs": []
    },
    {
      "cell_type": "code",
      "metadata": {
        "id": "46bCq46XLaNQ",
        "colab_type": "code",
        "outputId": "fae50ee4-d418-4aca-b1e3-5296c0dd4083",
        "colab": {
          "base_uri": "https://localhost:8080/",
          "height": 106
        }
      },
      "source": [
        "# def find_similarity(pdf,d,l,uix):\n",
        "uix = 5\n",
        "minx = -1 \n",
        "maxx = 1\n",
        "fav_stores = d[l[:5]].loc[uix].values.tolist()\n",
        "print(\"The favourite stores of {} are {}\".format(uix,fav_stores))\n",
        "fav = pdf[[str(i) for i in fav_stores]]\n",
        "des_user_vector = np.array(fav.loc[[uix]])\n",
        "# print(des_user_vector)\n",
        "cos_sim_val = []\n",
        "for i in range(1000):\n",
        "  if i != uix:\n",
        "    other_user_vector = np.array(fav.loc[[i]])\n",
        "    cs = (cos_sim(des_user_vector, other_user_vector)-minx)/(maxx-minx)\n",
        "    # print(cs)\n",
        "    cos_sim_val.append([cs,i])\n",
        "print(\"cosine similarities are {}\".format(cos_sim_val))\n",
        "print(sorted(cos_sim_val,reverse=True)[:5])\n",
        "similar = [id for s,id in sorted(cos_sim_val,reverse=True)[:5]]\n",
        "print(\"users similar to {} are {}\".format(uix,similar))\n",
        "\n",
        "\n",
        "\n",
        "  # return cos_sim_val\n"
      ],
      "execution_count": 29,
      "outputs": [
        {
          "output_type": "stream",
          "text": [
            "The favourite stores of 5 are [175, 161, 81, 13, 250]\n",
            "cosine similarities are [[0.7495733284815335, 0], [0.41031224472939853, 1], [0.05941833728562901, 2], [0.17048569319152568, 3], [0.7334144243086717, 4], [0.7943665761726542, 6], [0.2973982550750506, 7], [0.6989356515251397, 8], [0.5203353022606905, 9], [0.4395933978147034, 10], [0.975821921542765, 11], [0.44048050317817716, 12], [0.5934551237390273, 13], [0.26758660884112195, 14], [0.3561960949486638, 15], [0.3539801107417476, 16], [0.4148300087547988, 17], [0.6034660757736019, 18], [0.5691500151739847, 19], [0.449683024230358, 20], [0.6732997905103587, 21], [0.7133365846336087, 22], [0.42079194292062816, 23], [0.6917036051712676, 24], [0.5855276827894593, 25], [0.13595505208907233, 26], [0.25209325001095595, 27], [0.4380720088852022, 28], [0.3383753673729716, 29], [0.7480772461901277, 30], [0.6420305508104429, 31], [0.9312255903027742, 32], [0.9370810455009586, 33], [0.4428900473948777, 34], [0.3148131859588283, 35], [0.3365786257537916, 36], [0.6151027093541771, 37], [0.620604013998957, 38], [0.49317020200069406, 39], [0.7055628249101878, 40], [0.5452527422550603, 41], [0.36039604263747793, 42], [0.09252530539361303, 43], [0.5123239317973082, 44], [0.8030202361357379, 45], [0.2861751072877346, 46], [0.6100963478157677, 47], [0.4992849165641367, 48], [0.8078448736454158, 49], [0.7350738930689296, 50], [0.4192695770736101, 51], [0.24087256083261238, 52], [0.5377565635383625, 53], [0.4686081068131311, 54], [0.07344838275412613, 55], [0.3179457715893371, 56], [0.5259704959080149, 57], [0.4081102725433768, 58], [0.4148003840768164, 59], [0.2446978249155039, 60], [0.975859565466052, 61], [0.3303664730929128, 62], [0.5477297118440195, 63], [0.4355461554159192, 64], [0.4249549766699995, 65], [0.2246350785592412, 66], [0.4104258183994867, 67], [0.37686334727231763, 68], [0.27099132026722383, 69], [0.9506153940524442, 70], [0.23588868692063053, 71], [0.9460883423419306, 72], [0.45165013418407185, 73], [0.5735431712169502, 74], [0.4516293579061493, 75], [0.008708593021120592, 76], [0.46005273533253915, 77], [0.7855817025001182, 78], [0.6736047493107797, 79], [0.5904615043526623, 80], [0.48731195108974235, 81], [0.3912524328520564, 82], [0.7044343036520632, 83], [0.47693302073719157, 84], [0.3512173264887022, 85], [0.4681855495835467, 86], [0.464308046610363, 87], [0.6670073160014736, 88], [0.6384557302628229, 89], [0.6821153473131791, 90], [0.3145547216162702, 91], [0.4548921540795239, 92], [0.8285920851989221, 93], [0.29933340567182476, 94], [0.7587225188221555, 95], [0.7937771744994382, 96], [0.40987298013257695, 97], [0.6145320221403601, 98], [0.4345574485353371, 99], [0.5814691285451216, 100], [0.8677655377084534, 101], [0.4569279020810878, 102], [0.4446046126562986, 103], [0.26990767789182146, 104], [0.5390981520270393, 105], [0.3459474897937088, 106], [0.33808880983775036, 107], [0.4668498998634067, 108], [0.7570243708178143, 109], [0.17593912547043933, 110], [0.5873082561305898, 111], [0.5604993447035087, 112], [0.3449347257420129, 113], [0.18065431044131075, 114], [0.5513349539434171, 115], [0.24544859296960914, 116], [0.3988960263349286, 117], [0.5302005154712695, 118], [0.5550213239070866, 119], [0.6276040724965893, 120], [0.6031648829175361, 121], [0.6187038744461062, 122], [0.5620714508019695, 123], [0.0723498335860353, 124], [0.5112456887237147, 125], [0.19824632330329095, 126], [0.3242361049026774, 127], [0.3136481555755978, 128], [0.29912491155872334, 129], [0.6852085429971221, 130], [0.7660473644496054, 131], [0.2983443735780895, 132], [0.38682915881622976, 133], [0.337287394592213, 134], [0.5851714170772576, 135], [0.279843570661258, 136], [0.23567138053700543, 137], [0.4757178767436695, 138], [0.5101029610771446, 139], [0.4383404829612708, 140], [0.4611606023112378, 141], [0.7624208500611538, 142], [0.48613106437778897, 143], [0.3710280373425793, 144], [0.7222680702257602, 145], [0.3401521244077885, 146], [0.19133657267562842, 147], [0.5253320970581803, 148], [0.9267299376179226, 149], [0.2973007882027274, 150], [0.5881261876818872, 151], [0.4626226909126931, 152], [0.9210286265480082, 153], [0.5156538857325325, 154], [0.06177091856388678, 155], [0.968578395393376, 156], [0.6848143372906669, 157], [0.654044629293752, 158], [0.5013693880829285, 159], [0.41772441881584105, 160], [0.1843301041939347, 161], [0.5203959573250186, 162], [0.6126338175907838, 163], [0.6075061990171456, 164], [0.5055725024958997, 165], [0.841300047819421, 166], [0.1454147022699545, 167], [0.41021689073803747, 168], [0.5042283024898625, 169], [0.7156858685446501, 170], [0.9018773990107822, 171], [0.4459868327223248, 172], [0.6642633530059658, 173], [0.31862094081704373, 174], [0.6954521386079713, 175], [0.7654299367434221, 176], [0.5546821053373848, 177], [0.4348724866821545, 178], [0.6367370379557106, 179], [0.16631515772763933, 180], [0.24818990722489204, 181], [0.553034075314956, 182], [0.3725231727099996, 183], [0.4817764956993041, 184], [0.6925552763089254, 185], [0.3489861555391703, 186], [0.18716370271716443, 187], [0.7115924512192066, 188], [0.8201239442513102, 189], [0.8202502967044072, 190], [0.4067025431792104, 191], [0.056578942040662605, 192], [0.13188301929529028, 193], [0.4746271566449847, 194], [0.7638581054612235, 195], [0.6161200208282264, 196], [0.024557551606896266, 197], [0.6433787141410853, 198], [0.6387529470443782, 199], [0.42172264305265705, 200], [0.3223896900878812, 201], [0.3012142651994939, 202], [0.9794835157745716, 203], [0.4756044022899483, 204], [0.7200493694028499, 205], [0.40779286841203444, 206], [0.4238133352433736, 207], [0.2611280312742257, 208], [0.953794975649999, 209], [0.4822855879516069, 210], [0.646506830864341, 211], [0.7332465469693922, 212], [0.9363283867220402, 213], [0.31163899313012344, 214], [0.5457383115340312, 215], [0.15394429511237628, 216], [0.9263508875344122, 217], [0.5547803324355391, 218], [0.23516279257157535, 219], [0.5857473531577325, 220], [0.8643907060188631, 221], [0.5084427624710532, 222], [0.08464297801777604, 223], [0.45344323915404944, 224], [0.2889302207260734, 225], [0.9284647098641022, 226], [0.7098244927410908, 227], [0.3993583840423356, 228], [0.9875769831395846, 229], [0.45341753229224524, 230], [0.32292743406885444, 231], [0.6989531156879162, 232], [0.29588993451434176, 233], [0.6642788011605287, 234], [0.21540366860120141, 235], [0.3636368404296553, 236], [0.9389709896730466, 237], [0.47537816635220026, 238], [0.3008320735941472, 239], [0.7123424712506863, 240], [0.9925001994804106, 241], [0.5369337651431794, 242], [0.7950074469814206, 243], [0.8758694205233186, 244], [0.5828164642700834, 245], [0.33232247792847974, 246], [0.5968426682313259, 247], [0.49718133981166834, 248], [0.9145049779625146, 249], [0.46471255593008665, 250], [0.6927428619576407, 251], [0.6244262129135425, 252], [0.2309579936157813, 253], [0.3107168468251226, 254], [0.2215166228103425, 255], [0.23766920273147718, 256], [0.3877338453748766, 257], [0.6678879972474284, 258], [0.28121779868473995, 259], [0.9023967477973831, 260], [0.42119119527174115, 261], [0.6454259140513883, 262], [0.9309922372961094, 263], [0.7120834260454642, 264], [0.7259459634166521, 265], [0.5379899889248354, 266], [0.5451507794353831, 267], [0.5992594462341982, 268], [0.3926316873176374, 269], [0.5250004482250916, 270], [0.2923544850388167, 271], [0.7858036084515867, 272], [0.501419232241245, 273], [0.3393931991451332, 274], [0.43218629679202414, 275], [0.3216378214848432, 276], [0.5954829612137575, 277], [0.3335502046161859, 278], [0.5659188736207925, 279], [0.7229356120804863, 280], [0.31717029617475573, 281], [0.7125663276414274, 282], [0.4823372232989406, 283], [0.5981893487275611, 284], [0.43010482168497377, 285], [0.23012362536405162, 286], [0.47478167487808837, 287], [0.9375029183648559, 288], [0.43780006814830946, 289], [0.06452742490058122, 290], [0.5874626114323583, 291], [0.5593231766749023, 292], [0.5210489630190341, 293], [0.2805000319674952, 294], [0.14842342100317585, 295], [0.9429574932889679, 296], [0.5226782134330408, 297], [0.542135596985185, 298], [0.6561064936264855, 299], [0.002358877491592082, 300], [0.8473737515940669, 301], [0.4387667006091744, 302], [0.5564451573698288, 303], [0.3793643790931011, 304], [0.4810149435342711, 305], [0.9201759594690024, 306], [0.45070153294954535, 307], [0.7725006484030921, 308], [0.5729072584429289, 309], [0.7654615943600995, 310], [0.28535424906161205, 311], [0.4444035956941072, 312], [0.48736186041044044, 313], [0.46180161186205754, 314], [0.5902367192499036, 315], [0.5198493354291317, 316], [0.5777377062890453, 317], [0.6448377969478049, 318], [0.8875489137578167, 319], [0.25840464362885085, 320], [0.45840833911622314, 321], [0.4209170669559106, 322], [0.3845383849145202, 323], [0.484672005819684, 324], [0.4090379246556884, 325], [0.7040224408771604, 326], [0.6082834682091285, 327], [0.39079541083206487, 328], [0.5484266087455736, 329], [0.6731627050619384, 330], [0.6107131114738504, 331], [0.22714175172583767, 332], [0.3068134647713494, 333], [0.5266495477066743, 334], [0.6817556640136714, 335], [0.558462216367203, 336], [0.2525600624179304, 337], [0.3284370556617112, 338], [0.6583158558734938, 339], [0.967718544046595, 340], [0.644299933124459, 341], [0.356485009099146, 342], [0.5381864644828661, 343], [0.6140052145551308, 344], [0.9411321149050234, 345], [0.19880013186794893, 346], [0.8107596492635318, 347], [0.2441399608970704, 348], [0.4935984841505763, 349], [0.35854645176777666, 350], [0.9181015883420642, 351], [0.5327425460484585, 352], [0.5868926789627164, 353], [0.8055184987430095, 354], [0.9162570803158154, 355], [0.32834064483555075, 356], [0.547333064683975, 357], [0.6983263719402941, 358], [0.3752322861399276, 359], [0.5111697845555693, 360], [0.6322682343103512, 361], [0.6919883425469338, 362], [0.15214725858764244, 363], [0.7123338576899723, 364], [0.24060402840919015, 365], [0.9327855055860731, 366], [0.1666946165885373, 367], [0.4356848465279817, 368], [0.3535230641011292, 369], [0.22019724563488202, 370], [0.7527479008946714, 371], [0.33430635528565494, 372], [0.37692875225447275, 373], [0.3350964593104114, 374], [0.5162028564394561, 375], [0.6992564588105336, 376], [0.6482731787041099, 377], [0.0853004804829654, 378], [0.6079235716251492, 379], [0.9025707755452191, 380], [0.9439516349377945, 381], [0.16161368211083915, 382], [0.5648545730645856, 383], [0.6229806435663752, 384], [0.5155605697074065, 385], [0.5168073159671966, 386], [0.7514255081312939, 387], [0.27660209829427207, 388], [0.9683229989328686, 389], [0.2474178124141, 390], [0.32298627793619683, 391], [0.6012524274652283, 392], [0.4582716042078903, 393], [0.450551772165779, 394], [0.34484092738553884, 395], [0.3554590662624565, 396], [0.36667860873004676, 397], [0.26510592638743163, 398], [0.3118857930164487, 399], [0.6916479084012787, 400], [0.17718984341516403, 401], [0.4870892249817154, 402], [0.23440625727395126, 403], [0.6990631254857443, 404], [0.38307660243842867, 405], [0.43793675350019906, 406], [0.4610358104280233, 407], [0.5504086498095573, 408], [0.2966693148841013, 409], [0.3219842884140264, 410], [0.29336297270229117, 411], [0.9081676837820525, 412], [0.9404441433051437, 413], [0.8397277685905965, 414], [0.16118405363372673, 415], [0.39460270090403093, 416], [0.3846018067259717, 417], [0.42552622920874417, 418], [0.5630019295581421, 419], [0.3366960282868153, 420], [0.8489417440413756, 421], [0.745643193196653, 422], [0.5841272079457592, 423], [0.25091533083444506, 424], [0.925849542775691, 425], [0.7269458870611905, 426], [0.2122745154834123, 427], [0.9339987382004076, 428], [0.7336137621804268, 429], [0.2889103560366002, 430], [0.21098681314317597, 431], [0.9835817409792971, 432], [0.46142161664972103, 433], [0.48019469050333885, 434], [0.7465374485879134, 435], [0.5466123753273715, 436], [0.552141727830013, 437], [0.5455502589306559, 438], [0.689940829579919, 439], [0.909502873886183, 440], [0.3760093418793855, 441], [0.7244757200822245, 442], [0.24489826149114668, 443], [0.19065652142997097, 444], [0.30912453739057, 445], [0.6143521442739057, 446], [0.5761875047325132, 447], [0.5809454838368355, 448], [0.3204395097429224, 449], [0.359830881128967, 450], [0.40746056415660714, 451], [0.49698612332362185, 452], [0.3370740385655716, 453], [0.3821880541570253, 454], [0.6514210761528657, 455], [0.5178400096972066, 456], [0.6688827926808673, 457], [0.5939214796901499, 458], [0.7591283263529804, 459], [0.7997537906505883, 460], [0.422354301556884, 461], [0.09775812223355806, 462], [0.8401631680119549, 463], [0.6979986647203806, 464], [0.014251743302087283, 465], [0.6362374206992295, 466], [0.26418883690828227, 467], [0.46018814956403997, 468], [0.302787280295906, 469], [0.42111074489886424, 470], [0.4928065948206625, 471], [0.5447777985097092, 472], [0.554016264787845, 473], [0.23858533944496035, 474], [0.9529054518972042, 475], [0.6524196661537476, 476], [0.4518905747918112, 477], [0.7430623283166518, 478], [0.6037900833420097, 479], [0.2744045899741605, 480], [0.7494908137590877, 481], [0.3310174215715525, 482], [0.13994912156151224, 483], [0.6740174670500236, 484], [0.563260677867625, 485], [0.795440618270459, 486], [0.3733307518983652, 487], [0.4834820107296139, 488], [0.39443681990536, 489], [0.38320328332248554, 490], [0.212623176421242, 491], [0.47018047490133147, 492], [0.36983920454472385, 493], [0.7874756480274492, 494], [0.6508981548255132, 495], [0.003837739755176539, 496], [0.11874297940687417, 497], [0.6033342847903834, 498], [0.6758868520740202, 499], [0.35320414580570325, 500], [0.8934099559123605, 501], [0.3290387727619052, 502], [0.38634400215535714, 503], [0.6907547701756737, 504], [0.6034217798278239, 505], [0.7866349794985825, 506], [0.9327109150044708, 507], [0.6073901305191219, 508], [0.41147199124153344, 509], [0.12293573875033192, 510], [0.6991897988662077, 511], [0.0880167589433079, 512], [0.9760256360512716, 513], [0.11991221128934709, 514], [0.37488794504728973, 515], [0.8691104363399849, 516], [0.2124619648295924, 517], [0.3307303647970897, 518], [0.4086257995177428, 519], [0.7544114045525603, 520], [0.4613372395725067, 521], [0.5666700376506025, 522], [0.347998879979853, 523], [0.9153792487190326, 524], [0.7723193571230641, 525], [0.6611190121738485, 526], [0.4780191107552408, 527], [0.6725490121081961, 528], [0.580830636136959, 529], [0.500460439864292, 530], [0.01122681023457639, 531], [0.700552692261321, 532], [0.3497124746308398, 533], [0.6221412439864729, 534], [0.621227896984318, 535], [0.5409194026359911, 536], [0.84907514189191, 537], [0.7074734846671894, 538], [0.4551067510409574, 539], [0.9500206994882234, 540], [0.3686785301106914, 541], [0.8533384108004527, 542], [0.3567952657191117, 543], [0.7781805275923065, 544], [0.6353099415272996, 545], [0.5456459037778985, 546], [0.4715167713765262, 547], [0.6197439252081803, 548], [0.34354965473566274, 549], [0.3609905792764597, 550], [0.32595076426977476, 551], [0.5057061351952452, 552], [0.4084900684072659, 553], [0.9626033342867542, 554], [0.43600079346876447, 555], [0.21898665747435947, 556], [0.4524909697788385, 557], [0.24272355027138437, 558], [0.32357078386585225, 559], [0.7389091322083626, 560], [0.08151300588644844, 561], [0.2254391424810982, 562], [0.5743812450405353, 563], [0.5052778410658446, 564], [0.30702636822420043, 565], [0.9366969434529171, 566], [0.7153119874021374, 567], [0.7497312474053195, 568], [0.5839149924070277, 569], [0.2469541329508576, 570], [0.7801273609058994, 571], [0.8894947862493576, 572], [0.35661482021174296, 573], [0.33016179175350463, 574], [0.1286954473615607, 575], [0.19130796202834566, 576], [0.6339177965098394, 577], [0.4302638636220652, 578], [0.25361543006944787, 579], [0.9128893300273728, 580], [0.28535377656336786, 581], [0.5462035635168397, 582], [0.35950815681043924, 583], [0.6337037212893544, 584], [0.4492866216154769, 585], [0.6482821070803455, 586], [0.41620992858888345, 587], [0.6495913275891895, 588], [0.9505651134061006, 589], [0.1172045113805587, 590], [0.5125361018939292, 591], [0.7702498383057697, 592], [0.4957720454211268, 593], [0.9681319460489358, 594], [0.8385263951292086, 595], [0.44141870698781904, 596], [0.43983718715437037, 597], [0.9150869466323213, 598], [0.259506111872858, 599], [0.4090041596082733, 600], [0.6961560959309747, 601], [0.1362387597364439, 602], [0.9425918455114136, 603], [0.5124885040752871, 604], [0.1547815924912645, 605], [0.7157891607047235, 606], [0.24856054406478972, 607], [0.21309952738808124, 608], [0.5578501318316055, 609], [0.7219706282258819, 610], [0.6300853013531403, 611], [0.3836106357081684, 612], [0.35666695780407587, 613], [0.966626751332464, 614], [0.42379276571297986, 615], [0.2596820084119495, 616], [0.9523612383924576, 617], [0.908840377832427, 618], [0.7485035350596597, 619], [0.7042452801040675, 620], [0.6502432103235775, 621], [0.6955207955834344, 622], [0.6212569646400554, 623], [0.27014200022542034, 624], [0.36362896883510554, 625], [0.19898816317242402, 626], [0.3244786081581029, 627], [0.47916301418424817, 628], [0.7091265941592373, 629], [0.4460400774707067, 630], [0.5611141308191119, 631], [0.703731667365236, 632], [0.6558590112414058, 633], [0.3288863265546995, 634], [0.38612719968680875, 635], [0.4707211290868842, 636], [0.911128674816313, 637], [0.22961296123792835, 638], [0.4497917691178865, 639], [0.747284290328816, 640], [0.3590497625562495, 641], [0.2533765380271288, 642], [0.6773233784829715, 643], [0.6609132544888556, 644], [0.16340232742277833, 645], [0.7364004991612141, 646], [0.9066556044388181, 647], [0.16027722702424635, 648], [0.5330992776519861, 649], [0.5126895196902648, 650], [0.9091177754254527, 651], [0.5417118710447454, 652], [0.15613971215552552, 653], [0.5570626954828367, 654], [0.1385539283176313, 655], [0.5352612118250606, 656], [0.6347872106242713, 657], [0.8504270382492303, 658], [0.6099808612466381, 659], [0.6949320841269868, 660], [0.5472110561238028, 661], [0.40618829123725286, 662], [0.11196003772961893, 663], [0.49037537214626353, 664], [0.9405120967948302, 665], [0.14122477184098575, 666], [0.5630063669204117, 667], [0.610103159568311, 668], [0.5458278196015842, 669], [0.3611063703398272, 670], [0.36540539982808184, 671], [0.6847944805655387, 672], [0.47773797512702254, 673], [0.362975003255846, 674], [0.9128030369676678, 675], [0.5141887785274993, 676], [0.41725080178615315, 677], [0.7585115772024883, 678], [0.44519782353111376, 679], [0.4980145802865447, 680], [0.9221030059393347, 681], [0.5518559279347862, 682], [0.9685274952789495, 683], [0.328434758019064, 684], [0.29199281908794344, 685], [0.4528492742253758, 686], [0.5056654247031223, 687], [0.7476269719061508, 688], [0.010148575155984496, 689], [0.36966275404008453, 690], [0.796370269700774, 691], [0.6616717667056413, 692], [0.27332212424063895, 693], [0.43144077304975154, 694], [0.5216563786439709, 695], [0.7321671985873757, 696], [0.5745963094573399, 697], [0.8975405561154446, 698], [0.41783064374922835, 699], [0.6523812962346925, 700], [0.4201553794537507, 701], [0.3368592281108843, 702], [0.6319427270256577, 703], [0.3261381907765714, 704], [0.3163256218649316, 705], [0.19527716327738254, 706], [0.4848882130900173, 707], [0.6605435071128865, 708], [0.5040550189977944, 709], [0.6801004626429299, 710], [0.7120823946840804, 711], [0.19882071366382603, 712], [0.20797576288720093, 713], [0.45066528967323133, 714], [0.3937009181671911, 715], [0.017247831158350713, 716], [0.5751257024126577, 717], [0.566958334661151, 718], [0.3952831391954267, 719], [0.16585960856081683, 720], [0.06597357286392397, 721], [0.3744440393358327, 722], [0.5441858883371837, 723], [0.6236710894501946, 724], [0.9688139954609223, 725], [0.5139806328889498, 726], [0.3403860160163761, 727], [0.7191818641903954, 728], [0.011396685774887672, 729], [0.4674121725233647, 730], [0.5209126793499459, 731], [0.35792370806004825, 732], [0.2264720606865947, 733], [0.4137424000803481, 734], [0.4599873810596228, 735], [0.1971250048412586, 736], [0.3311541120533372, 737], [0.6441774897197443, 738], [0.1130097215625564, 739], [0.7068714570610132, 740], [0.2145107463906049, 741], [0.35006663079849587, 742], [0.31980506459483826, 743], [0.05440429870451352, 744], [0.39663172764937527, 745], [0.6415487314329084, 746], [0.3586134334159997, 747], [0.44643873149035135, 748], [0.6908247542726509, 749], [0.6648246528814014, 750], [0.9446259928140615, 751], [0.34673956738518513, 752], [0.8781922844271126, 753], [0.10324426272962556, 754], [0.7935507759396191, 755], [0.22030856379111324, 756], [0.41938805059998596, 757], [0.10708356689857756, 758], [0.6896375998554254, 759], [0.41244042541475084, 760], [0.3303330997916937, 761], [0.7805597945986837, 762], [0.3337849836237286, 763], [0.7658420693292867, 764], [0.435706176055248, 765], [0.22373876233624052, 766], [0.48069288327337273, 767], [0.670293044273415, 768], [0.5265038429097296, 769], [0.21083655395119233, 770], [0.36003030042606027, 771], [0.595086679687703, 772], [0.6780118288562287, 773], [0.3008519479399351, 774], [0.7540112971408235, 775], [0.2905460492749893, 776], [0.19303702755365437, 777], [0.6725292338158644, 778], [0.9579906397243343, 779], [0.5166705808821337, 780], [0.6712803985770845, 781], [0.5308409972882534, 782], [0.5747122332752294, 783], [0.2928468750017048, 784], [0.3787054087151245, 785], [0.5659757057513672, 786], [0.8950478194068552, 787], [0.7150760997599515, 788], [0.3757014756388303, 789], [0.36618305748192204, 790], [0.7579524798597739, 791], [0.5886449915724442, 792], [0.13684009861736657, 793], [0.6433840097889707, 794], [0.4999515949090634, 795], [0.27241107110691576, 796], [0.4128235211947092, 797], [0.23474892406050857, 798], [0.9761371413868289, 799], [0.09123182256516132, 800], [0.7475288111708098, 801], [0.3314366871411954, 802], [0.7718910327662113, 803], [0.3348732901754709, 804], [0.7928464948326356, 805], [0.35246496200755295, 806], [0.2967001137226305, 807], [0.32498606803135033, 808], [0.731647589624817, 809], [0.26716928495700437, 810], [0.5098960971188227, 811], [0.23769257134001187, 812], [0.7349678281362233, 813], [0.2872929000640486, 814], [0.7156558070249983, 815], [0.2907949290686701, 816], [0.8364840509374903, 817], [0.4881677006573714, 818], [0.5492207444660745, 819], [0.2856177247313415, 820], [0.5447635933382146, 821], [0.8030573970554333, 822], [0.5183018500750723, 823], [0.8031718190088876, 824], [0.37559478273442437, 825], [0.634557895566675, 826], [0.6072917730315315, 827], [0.36142836516330756, 828], [0.4570529421561058, 829], [0.7329834621429627, 830], [0.15074156934019495, 831], [0.6795611326343642, 832], [0.8552748242607173, 833], [0.4568803269164264, 834], [0.5731401018919995, 835], [0.593123463818617, 836], [0.4875791269185322, 837], [0.1973508049129739, 838], [0.7299185480403985, 839], [0.2506789603128896, 840], [0.34739564182603055, 841], [0.020818647729495265, 842], [0.3664562337699202, 843], [0.4704637932494565, 844], [0.012641276947066182, 845], [0.31448461464872124, 846], [0.4901832745047203, 847], [0.7183896595152763, 848], [0.24809548789226604, 849], [0.3968827601123097, 850], [0.6692139137434114, 851], [0.42655515691489776, 852], [0.6629652253584792, 853], [0.7075201628833154, 854], [0.7237652296507988, 855], [0.23016306866388836, 856], [0.4036666390750998, 857], [0.22197167708373022, 858], [0.6958786379730053, 859], [0.5283949698059784, 860], [0.41161981331338804, 861], [0.9292777331474855, 862], [0.3515268225334554, 863], [0.5816717549141559, 864], [0.9648567526634124, 865], [0.7196012721823845, 866], [0.8352448600049185, 867], [0.73662583475137, 868], [0.1309797179090092, 869], [0.9774428373674721, 870], [0.2731592966975559, 871], [0.6031264163947162, 872], [0.48015253342938646, 873], [0.5934845648632395, 874], [0.3504875038419697, 875], [0.26039374393359915, 876], [0.6012656805583724, 877], [0.2789071837011011, 878], [0.5667531809197462, 879], [0.438928581370755, 880], [0.27816088138712297, 881], [0.9543559209049597, 882], [0.7537227009415621, 883], [0.3135089139398098, 884], [0.8114910137912543, 885], [0.9386401171510466, 886], [0.5665200850336485, 887], [0.44370017961298847, 888], [0.5276504620780648, 889], [0.9324321714710214, 890], [0.6470351683133959, 891], [0.4531850402679577, 892], [0.2970531504187644, 893], [0.5654673736457587, 894], [0.5628770578338954, 895], [0.649313519355265, 896], [0.31722946548341924, 897], [0.37433876768427754, 898], [0.5074936137578537, 899], [0.9478543645025131, 900], [0.47104414725503563, 901], [0.45592970793896936, 902], [0.8115045570409232, 903], [0.29247521433809676, 904], [0.4165004778231116, 905], [0.6119300721624276, 906], [0.482553486895779, 907], [0.5070332426377759, 908], [0.6059642475749041, 909], [0.13658432857219927, 910], [0.46454650235981504, 911], [0.5292692502312087, 912], [0.28355898488811215, 913], [0.7427273083877951, 914], [0.4096110024402134, 915], [0.2849863457901675, 916], [0.49689868501319073, 917], [0.4509383947956601, 918], [0.6333187100946981, 919], [0.33217998037966234, 920], [0.43299928956431133, 921], [0.6210160119525286, 922], [0.6340782500115575, 923], [0.5996137521327672, 924], [0.7051559346025339, 925], [0.9065005427660584, 926], [0.19035643969906607, 927], [0.355041457474322, 928], [0.4552655421386008, 929], [0.4669746066248436, 930], [0.5599881845110085, 931], [0.9426517552506112, 932], [0.4060866220322984, 933], [0.4628349056637299, 934], [0.22280488815529198, 935], [0.45729103456894354, 936], [0.8801032038487924, 937], [0.43942563125302264, 938], [0.7829151350573608, 939], [0.6545361207448268, 940], [0.5028150759733057, 941], [0.9758007056398964, 942], [0.2442271068911816, 943], [0.31828005161352024, 944], [0.7571275591920066, 945], [0.950213577437993, 946], [0.27040288046452143, 947], [0.2479921986107696, 948], [0.6628038569726264, 949], [0.2788226029795735, 950], [0.4270888297967379, 951], [0.4006710260835624, 952], [0.6102155281080249, 953], [0.2092461818399552, 954], [0.8269240842393809, 955], [0.5852538461769933, 956], [0.3166441904014332, 957], [0.5440317960244158, 958], [0.5554714026049419, 959], [0.4698704690620546, 960], [0.2411882743701485, 961], [0.6892387417639008, 962], [0.9059963770390669, 963], [0.5299329529320509, 964], [0.6175825604093667, 965], [0.7486472145986004, 966], [0.4718271705984418, 967], [0.9478378266878011, 968], [0.49836246131345774, 969], [0.35536227468497655, 970], [0.5116617219724043, 971], [0.20385624128116286, 972], [0.13648219668285771, 973], [0.5583474432555672, 974], [0.19121519442334534, 975], [0.11723458844387091, 976], [0.3870839027340047, 977], [0.16209631043685713, 978], [0.7053808600318154, 979], [0.6437803477119444, 980], [0.5202534437660251, 981], [0.19754571724953301, 982], [0.6330673724180407, 983], [0.7470882365802272, 984], [0.7065856199761466, 985], [0.47141691664374236, 986], [0.2054069551745803, 987], [0.21220989488557968, 988], [0.6498610835060186, 989], [0.9847290167840601, 990], [0.6903883479406464, 991], [0.28255368769486877, 992], [0.2933746634379113, 993], [0.270217632488389, 994], [0.30066780918488506, 995], [0.9675579812004731, 996], [0.31748852425991914, 997], [0.6344870256510412, 998], [0.6469804157551468, 999]]\n",
            "[[0.9925001994804106, 241], [0.9875769831395846, 229], [0.9847290167840601, 990], [0.9835817409792971, 432], [0.9794835157745716, 203]]\n",
            "users similar to 5 are [241, 229, 990, 432, 203]\n"
          ],
          "name": "stdout"
        }
      ]
    },
    {
      "cell_type": "markdown",
      "metadata": {
        "id": "6Ne1X2qBMmcr",
        "colab_type": "text"
      },
      "source": [
        "### Till this the users who have a similar store pattern are picked from the lot"
      ]
    },
    {
      "cell_type": "code",
      "metadata": {
        "id": "jt69vGW-DTph",
        "colab_type": "code",
        "colab": {}
      },
      "source": [
        "def sort(sub_li): \n",
        "    return(sorted(sub_li, key = lambda x: x[1]))"
      ],
      "execution_count": 0,
      "outputs": []
    },
    {
      "cell_type": "code",
      "metadata": {
        "id": "4hyeRtchw5W4",
        "colab_type": "code",
        "outputId": "af2108aa-6434-4de2-fbb3-1224ec38bdbf",
        "colab": {
          "base_uri": "https://localhost:8080/",
          "height": 72
        }
      },
      "source": [
        "sim = pd.DataFrame()\n",
        "avg = []\n",
        "for i in range(256):\n",
        "  if i not in fav_stores:\n",
        "    l=pdf[str(i)].loc[similar].values\n",
        "    dist = [np.linalg.norm(l[i]-l[i+1]) for i in range(len(l)-1)]\n",
        "    avg.append([i,(sum(dist)/len(dist))])\n",
        "avg = sort(avg)\n",
        "print(avg)\n",
        "print(\"suggested store is {}\".format(avg[0][0]))"
      ],
      "execution_count": 37,
      "outputs": [
        {
          "output_type": "stream",
          "text": [
            "[[16, 0.2059615615269513], [195, 0.24733586642373084], [73, 0.2652625396692576], [102, 0.28436880967186284], [221, 0.3143406605991767], [196, 0.3275969661366162], [209, 0.4283051785572568], [94, 0.4635392128759491], [95, 0.48024254916336195], [191, 0.5042850403740112], [210, 0.5095640364802925], [119, 0.52185458604659], [236, 0.5226029696477817], [218, 0.5243451312627203], [159, 0.5318608402165412], [149, 0.5357770739437403], [247, 0.5383511771741158], [157, 0.5418063930423964], [227, 0.5546560281958031], [144, 0.565638378231465], [190, 0.565931002387194], [156, 0.5712118798548377], [1, 0.5794877166004158], [129, 0.5885706847804522], [198, 0.641770497472876], [49, 0.6481343268371383], [118, 0.6540880894863825], [240, 0.6597278030344709], [24, 0.6623538940042163], [31, 0.6625242195234093], [30, 0.6698350541710684], [242, 0.6700679257349411], [27, 0.6822115220307794], [170, 0.696349043637786], [20, 0.6980220772285823], [142, 0.7101193860085383], [133, 0.7136367471092409], [45, 0.7150472114705547], [226, 0.7184200864246182], [126, 0.7407026483614476], [201, 0.7552339589623682], [50, 0.7620311452776871], [80, 0.7694281043519272], [33, 0.7703144017381214], [48, 0.7855109188577384], [146, 0.78935337656477], [140, 0.7916738978600938], [128, 0.8018796663530013], [187, 0.8020442083428097], [116, 0.8031510436346031], [105, 0.8120172161385835], [101, 0.8354478292884201], [171, 0.8396793910236184], [178, 0.8397178121970376], [151, 0.8417301178365173], [111, 0.8475666423393129], [96, 0.8559266981864235], [248, 0.8577481368958653], [0, 0.8678519538734721], [97, 0.8688710499938255], [183, 0.8691766754991437], [176, 0.8709205334046767], [249, 0.8826763772024572], [61, 0.8872093749961987], [53, 0.9054444854807199], [228, 0.911225115997375], [70, 0.914129415848133], [37, 0.920335292359367], [10, 0.9253542512714079], [82, 0.9254719859781665], [58, 0.9260271712505302], [92, 0.9262268536112118], [211, 0.9310451139817597], [197, 0.9353559224455124], [193, 0.949514270055591], [174, 0.9517553495452413], [241, 0.9565925746099483], [63, 0.9641212694931798], [214, 0.9746348008746084], [162, 0.9766611136610732], [106, 0.9776252454133743], [232, 0.9814184582369009], [62, 0.993773305404694], [244, 0.9970864267098036], [165, 1.0080477420709435], [143, 1.008597380461659], [172, 1.0102033875541725], [145, 1.010802472138807], [67, 1.0137590516582853], [173, 1.018224378402846], [21, 1.036336793441859], [89, 1.0363527013284393], [137, 1.042036451150198], [15, 1.042297368225131], [252, 1.0477627428261858], [179, 1.0549298677672052], [85, 1.0604611728018365], [238, 1.0682481406809095], [122, 1.079306758421022], [222, 1.0799452364084756], [147, 1.098827383553898], [234, 1.1016118557854115], [233, 1.1021782433924179], [12, 1.1030926846131424], [180, 1.1113168530187416], [76, 1.1116080013105376], [113, 1.1128521805436367], [213, 1.1154923917163473], [164, 1.1156565489970867], [34, 1.1165120617359197], [90, 1.1166890851204423], [130, 1.1178471224364], [110, 1.1202905681055557], [108, 1.1267763953721597], [206, 1.1304779405962868], [9, 1.1393919973728273], [168, 1.1396324348227564], [199, 1.1454339682109005], [8, 1.1538145231371808], [44, 1.1576223074549858], [4, 1.1615967990626235], [243, 1.1650850176190766], [166, 1.1652145807521688], [127, 1.18279656772722], [78, 1.1851025722686601], [224, 1.1894441083938214], [14, 1.1894651888614556], [230, 1.1903004272208368], [139, 1.1931546417139156], [181, 1.2097293957366473], [184, 1.2277696255299557], [186, 1.2305783544186175], [135, 1.2309997927850895], [220, 1.2383177792105737], [125, 1.2496453686975248], [138, 1.25564270463794], [57, 1.2556874496979022], [121, 1.2559401046172014], [7, 1.2569639376508173], [72, 1.2641188803315706], [152, 1.2791848820596143], [71, 1.2794177339292294], [84, 1.286637237595756], [124, 1.2882558642779038], [208, 1.2908446280461119], [136, 1.2927602348515108], [231, 1.293546451502234], [93, 1.2959441049704017], [189, 1.2980196461578217], [29, 1.2998791978228281], [217, 1.3025336099996065], [219, 1.305136707533525], [41, 1.3052387761624429], [26, 1.3147763787050237], [28, 1.319027201805845], [115, 1.3195781305270233], [87, 1.3211358588093827], [39, 1.333433927243175], [205, 1.3498183496798077], [123, 1.3565368303037006], [18, 1.3613548238118616], [56, 1.3673018958291685], [69, 1.3702508739003219], [74, 1.3702865969527314], [109, 1.3809356038790401], [160, 1.388575249840959], [23, 1.3940912812928965], [6, 1.4005155881850846], [98, 1.4274323808325535], [47, 1.4355109208002284], [107, 1.452048358472682], [225, 1.4532094100031199], [103, 1.455665196472692], [207, 1.4558652536951486], [25, 1.4563026101113739], [46, 1.456975793521839], [36, 1.4598790909000803], [120, 1.4711408192795286], [60, 1.4730829775610732], [17, 1.4791935077110423], [54, 1.4798824040185021], [229, 1.4856706494747145], [223, 1.5050293146580425], [64, 1.5124172147804313], [239, 1.5139687592203883], [235, 1.5215244552631038], [22, 1.5260290352901227], [51, 1.526911771738887], [177, 1.5276747843466174], [255, 1.5293988353226042], [68, 1.5328644732776666], [153, 1.5353653303420423], [65, 1.5470033559548377], [182, 1.549746170705653], [132, 1.5682714964425086], [185, 1.5861881550368384], [83, 1.591723249717584], [11, 1.6010628298913792], [86, 1.6232652820216262], [43, 1.6296745892558193], [254, 1.6511585105426005], [2, 1.6559980966796675], [117, 1.6620722127633392], [202, 1.6883119543224114], [212, 1.6923206086624174], [216, 1.694042021777967], [188, 1.6961057127466677], [237, 1.7089061524402696], [114, 1.7268307526207425], [38, 1.7313637104316288], [251, 1.7517714401633087], [163, 1.7588521552053709], [42, 1.7602385674374266], [200, 1.7694517527470275], [3, 1.8016425812264116], [104, 1.8187311817928316], [32, 1.81996335423798], [246, 1.824267743117057], [134, 1.83414038820834], [203, 1.8421831648519622], [99, 1.856580353973603], [52, 1.8576330560993524], [131, 1.860329892280364], [79, 1.8664264805152242], [150, 1.8684993662042675], [194, 1.8788354381104804], [66, 1.9091748654867637], [5, 1.912187300738925], [112, 1.922407250193495], [253, 1.956092676754242], [55, 1.9612418958306486], [155, 1.9685812827097922], [100, 1.9710393361878267], [91, 1.9896867319244786], [59, 1.99085282517642], [169, 2.0041079348085153], [35, 2.029791815406598], [88, 2.037141066614735], [141, 2.0703763820396865], [215, 2.1044073837087067], [154, 2.1242680646381684], [192, 2.148652457375913], [158, 2.1866253486771763], [75, 2.238643225463795], [204, 2.248129520032471], [148, 2.320500473592257], [77, 2.364176977057883], [167, 2.467185443776713], [40, 2.544729748383701], [19, 2.7166058041281786], [245, 2.876317239623362]]\n",
            "suggested store is 16\n"
          ],
          "name": "stdout"
        }
      ]
    },
    {
      "cell_type": "markdown",
      "metadata": {
        "id": "KPtesFxlM09G",
        "colab_type": "text"
      },
      "source": [
        "### The recommender system has suggested a store by finding mean euclidean distance btwn the users that were found similar."
      ]
    },
    {
      "cell_type": "markdown",
      "metadata": {
        "id": "5Btt5w3pA_WT",
        "colab_type": "text"
      },
      "source": [
        "## Recommendation based on ur friends' interests"
      ]
    },
    {
      "cell_type": "code",
      "metadata": {
        "id": "fTWdvHsiBH_w",
        "colab_type": "code",
        "colab": {}
      },
      "source": [
        "friends = [14, 235, 701, 333, 404]"
      ],
      "execution_count": 0,
      "outputs": []
    },
    {
      "cell_type": "code",
      "metadata": {
        "id": "pyP4xLa6A-TZ",
        "colab_type": "code",
        "colab": {
          "base_uri": "https://localhost:8080/",
          "height": 72
        },
        "outputId": "417b8274-c2b9-4ac5-9555-17a9c9e55f8f"
      },
      "source": [
        "sim = pd.DataFrame()\n",
        "avg = []\n",
        "for i in range(256):\n",
        "  if i not in fav_stores:\n",
        "    l=pdf[str(i)].loc[friends].values\n",
        "    dist = [np.linalg.norm(l[i]-l[i+1]) for i in range(len(l)-1)]\n",
        "    avg.append([i,(sum(dist)/len(dist))])\n",
        "avg = sort(avg)\n",
        "print(avg)\n",
        "print(\"suggested store is {}\".format(avg[0][0]))"
      ],
      "execution_count": 42,
      "outputs": [
        {
          "output_type": "stream",
          "text": [
            "[[0, 0.0967760801027424], [164, 0.27801475340627785], [58, 0.30784271953245523], [25, 0.3527542891480305], [90, 0.35768199814719315], [187, 0.36080649236422696], [230, 0.3653919453591323], [162, 0.3655669353859729], [232, 0.36885419934549063], [31, 0.40884733057096795], [123, 0.4463362475769179], [125, 0.47098887381144], [59, 0.47312211371064067], [92, 0.47321863306533746], [225, 0.4769607800035032], [55, 0.5125096452884131], [104, 0.5240347374941796], [66, 0.5362646248898435], [209, 0.5403419061029465], [246, 0.5433219492064019], [177, 0.5576694812112541], [4, 0.5734984586979642], [126, 0.6045275027512801], [74, 0.6046408357088814], [80, 0.6144007361135793], [235, 0.6206311191808296], [67, 0.6311942396387668], [193, 0.6312270864678481], [169, 0.6454871797271814], [195, 0.6492491299304257], [52, 0.7060278492646404], [186, 0.7148948025305193], [192, 0.7176566662189596], [174, 0.7197209942280403], [227, 0.7205293172572321], [233, 0.7254052372759279], [207, 0.7286862497327503], [3, 0.7417024707049935], [147, 0.7505376976540795], [87, 0.7516371348290334], [1, 0.7518133697572904], [155, 0.7544665379617082], [82, 0.7572823121851225], [89, 0.7672712844506839], [120, 0.7707263923148411], [51, 0.7813816475841787], [27, 0.7844507816343157], [14, 0.786215030887986], [21, 0.7917812327042629], [115, 0.8017684867873296], [86, 0.8024282997903628], [18, 0.8104528693173985], [215, 0.8141568936291184], [68, 0.8208107707315129], [255, 0.8271003258759859], [76, 0.8366982708597159], [178, 0.8423394948117534], [159, 0.8466096172401256], [139, 0.8468936424533096], [238, 0.8542253409877688], [65, 0.8560175198072899], [29, 0.8606148635044923], [9, 0.8637529346531869], [152, 0.8643018441288923], [142, 0.8684525491747555], [237, 0.8703658348437266], [141, 0.8712328574943687], [188, 0.8738384160467086], [6, 0.8839951027545941], [77, 0.8944807137861213], [253, 0.9234378334779886], [244, 0.9253665815771264], [121, 0.9422943857616852], [28, 0.9557643640535387], [183, 0.9572504039082108], [37, 0.957319289474675], [48, 0.9638181743474346], [217, 0.9661413765597664], [30, 0.9667611291006621], [49, 0.9688973948839334], [17, 0.9705909053741968], [128, 0.9755983973850615], [223, 0.978023465286962], [148, 0.9816124124173147], [118, 0.9837662530038221], [218, 0.9961591398148837], [144, 0.9985228870448302], [130, 1.0011070394592836], [79, 1.0098210421500533], [222, 1.0126171596920364], [91, 1.0157751063959077], [214, 1.0221196989941708], [158, 1.0291659144971028], [22, 1.0341476440238713], [150, 1.0397349264556384], [137, 1.0526117688227226], [61, 1.0599002655168759], [243, 1.0605546890507909], [135, 1.0637779171754012], [95, 1.0639562530652462], [172, 1.065728679779786], [151, 1.0657448722525542], [226, 1.0730192115249522], [35, 1.07350144831587], [43, 1.0811995746165661], [138, 1.0831343631145551], [45, 1.0933420342234772], [72, 1.0940523653416252], [133, 1.094383984260019], [99, 1.096409510521578], [16, 1.0997038596795894], [70, 1.1201101993297877], [251, 1.1208885366616523], [228, 1.126239280101006], [203, 1.1292169077516292], [83, 1.1351917568728818], [196, 1.1382892685256805], [101, 1.1414590123007753], [136, 1.15143918558514], [93, 1.157471040715969], [38, 1.1581381576675343], [44, 1.1610564347334296], [198, 1.1750295540879176], [2, 1.1782009758153915], [242, 1.182520528978786], [53, 1.1828544097421756], [146, 1.1854882517837744], [157, 1.1899368195923796], [96, 1.1907922204753159], [181, 1.1939680220825561], [106, 1.2011609264194334], [26, 1.2041687063537292], [97, 1.2081008927015338], [220, 1.2090916070434008], [210, 1.2127370614417514], [252, 1.2218637684163371], [71, 1.2260840702114941], [110, 1.2297234010460327], [103, 1.2329566211186394], [167, 1.2373947253244748], [109, 1.2384666118797565], [231, 1.243015174783155], [47, 1.249361323748901], [108, 1.251203803138189], [36, 1.2549365980701086], [160, 1.2620812368301917], [113, 1.268070488881272], [19, 1.2688484232734103], [173, 1.2762452589937807], [12, 1.2848422010720801], [40, 1.2943423211670104], [39, 1.3032713050061173], [190, 1.305960283894076], [204, 1.3097818562194696], [54, 1.3140501793606258], [202, 1.3214642433961008], [153, 1.329930726668779], [132, 1.3300132265496676], [224, 1.3312183834352844], [212, 1.3363296158355653], [234, 1.3369683213309709], [85, 1.3475284065243844], [182, 1.3489800911034102], [46, 1.3580789163250901], [8, 1.3780473972182807], [199, 1.3879307260646332], [247, 1.391507899328445], [143, 1.3951847764740575], [211, 1.4066872483018167], [200, 1.4072336196534225], [176, 1.4153786355966478], [205, 1.4179497573385622], [63, 1.4240659099349127], [189, 1.4242807019820969], [219, 1.4320140856391774], [197, 1.437159912487056], [60, 1.4409758767603535], [249, 1.4452524183540043], [78, 1.4485781611065716], [179, 1.4530343056672632], [191, 1.4549302240310102], [107, 1.4585992786926296], [114, 1.4616604926014878], [33, 1.4625328228017096], [34, 1.467075928964476], [131, 1.4677571698959917], [165, 1.4915018739276222], [180, 1.4972078703091631], [145, 1.5009980841406496], [11, 1.501002891268645], [75, 1.5229019561701096], [213, 1.5236567838984463], [23, 1.5238631882880125], [240, 1.5448234866057697], [149, 1.5491160826458499], [116, 1.5526797232195693], [112, 1.554116934317129], [5, 1.565522445078373], [254, 1.5703973398421396], [221, 1.574276273423508], [140, 1.5756286307200233], [206, 1.5775264175113284], [62, 1.5847270704501475], [117, 1.5920039384824018], [194, 1.592077686932242], [168, 1.5955822689715928], [41, 1.5984586357755919], [245, 1.6015668855875744], [7, 1.6204860098213412], [98, 1.6390092646764454], [171, 1.6398460541798157], [184, 1.6400056308576436], [69, 1.6608471305595318], [129, 1.67339412671745], [20, 1.6920477409139716], [127, 1.6964040211930707], [100, 1.6965137607860223], [156, 1.6997607426065762], [170, 1.7017539537605944], [236, 1.706551546206002], [124, 1.7142733074468626], [94, 1.7177091831014868], [241, 1.726328812034093], [84, 1.7308157863771627], [134, 1.7532992593266763], [239, 1.757205564755011], [248, 1.7629454597391532], [88, 1.769264249202204], [154, 1.7744336992279481], [201, 1.7982732910236048], [208, 1.8281562968411211], [229, 1.8328310147068787], [57, 1.8453369093750278], [42, 1.8622109420411797], [50, 1.863394573140905], [105, 1.8743725596396728], [111, 1.9045437755930419], [32, 1.9103824652905377], [216, 1.9189116914319113], [73, 1.9475146079857932], [122, 1.9616141976247488], [10, 1.9666366443452272], [185, 2.0051098734823514], [163, 2.0367691911675285], [15, 2.1166645646510442], [64, 2.1673503395815885], [24, 2.2581451360195595], [56, 2.430088435627013], [119, 2.518398120076784], [166, 2.835844670709734], [102, 2.936392174012507]]\n",
            "suggested store is 0\n"
          ],
          "name": "stdout"
        }
      ]
    },
    {
      "cell_type": "code",
      "metadata": {
        "id": "ZliW5sH5D0dH",
        "colab_type": "code",
        "colab": {}
      },
      "source": [
        "friends = [174, 535, 801, 333, 404]"
      ],
      "execution_count": 0,
      "outputs": []
    },
    {
      "cell_type": "code",
      "metadata": {
        "id": "2PAM4AgKD26p",
        "colab_type": "code",
        "colab": {
          "base_uri": "https://localhost:8080/",
          "height": 72
        },
        "outputId": "a2bf41f4-799d-4fcd-da0f-f32ec26aff92"
      },
      "source": [
        "sim = pd.DataFrame()\n",
        "avg = []\n",
        "for i in range(256):\n",
        "  if i not in fav_stores:\n",
        "    l=pdf[str(i)].loc[friends].values\n",
        "    dist = [np.linalg.norm(l[i]-l[i+1]) for i in range(len(l)-1)]\n",
        "    avg.append([i,(sum(dist)/len(dist))])\n",
        "avg = sort(avg)\n",
        "print(avg)\n",
        "print(\"suggested store is {}\".format(avg[0][0]))"
      ],
      "execution_count": 44,
      "outputs": [
        {
          "output_type": "stream",
          "text": [
            "[[79, 0.1851785358675705], [215, 0.22308151216582434], [147, 0.39613127827232186], [198, 0.40382090397992776], [82, 0.4397537267084082], [90, 0.4511133886067075], [29, 0.5067012290250001], [244, 0.517388301124308], [188, 0.5341438671304639], [109, 0.5446740185629537], [182, 0.5652195305814591], [171, 0.5652274021667939], [205, 0.5712098428973751], [99, 0.5812538149693376], [162, 0.6001967133076087], [202, 0.638396576059915], [233, 0.6421773828348258], [103, 0.6455729838319519], [139, 0.6508150019397542], [158, 0.6512654561705951], [232, 0.6666887448889098], [235, 0.669826029017583], [30, 0.6698350541710686], [196, 0.6739305177533921], [239, 0.6927693600723511], [57, 0.7064175659006771], [39, 0.717219891417189], [174, 0.7197209942280403], [58, 0.7233648873474818], [207, 0.729454309006351], [132, 0.7324062620123724], [144, 0.7568144924452604], [21, 0.7583367742333208], [76, 0.7682225322426999], [149, 0.7816975746603279], [169, 0.8037977604998562], [86, 0.8044664397190321], [31, 0.8152547870261988], [156, 0.8302099564029872], [113, 0.8362540171281059], [5, 0.8369940563535663], [14, 0.8372981440627886], [168, 0.8416499191900262], [6, 0.8513344227964769], [225, 0.8519857186888868], [246, 0.8658582482070424], [157, 0.8685768617804679], [164, 0.8697860109365441], [65, 0.8698262864992781], [22, 0.8757200919965502], [16, 0.8857964093151477], [100, 0.889353934206765], [35, 0.8951012546323802], [214, 0.895460310488376], [56, 0.8977318307703288], [7, 0.8979005873930556], [43, 0.8999295552951739], [72, 0.9023116510659894], [140, 0.909224905202405], [126, 0.9123052017838127], [135, 0.9157578241345965], [226, 0.9213004833515186], [248, 0.9241483315599393], [127, 0.9270119424294281], [9, 0.9345616160739914], [186, 0.937773609826823], [181, 0.9448889773856455], [187, 0.9523278197104199], [55, 0.958714605227513], [92, 0.9594235406060236], [133, 0.9626848753993754], [94, 0.9693887999317488], [37, 0.9746935142219869], [136, 0.9830861628653453], [141, 0.9836540393813398], [66, 0.9976361095529449], [4, 0.9976583090858833], [240, 1.000186574646726], [237, 1.0006553842161325], [69, 1.0024255842668142], [106, 1.0029780971902438], [91, 1.0044462525651574], [231, 1.0106934032176755], [2, 1.0132715527011744], [53, 1.0209795267706772], [41, 1.0213352900260018], [42, 1.0271567678043618], [218, 1.033816906085581], [142, 1.0363432600563347], [38, 1.041625806762514], [25, 1.045259924216984], [223, 1.0457891811509663], [27, 1.0649147429170416], [160, 1.067590098235566], [230, 1.0683301874936248], [12, 1.0744445182539855], [201, 1.0750970697970448], [75, 1.0764793705612252], [184, 1.0776109186014258], [180, 1.0783480419312796], [222, 1.0819548815438331], [227, 1.0820396222290904], [221, 1.0844142171787186], [32, 1.0876420830582887], [159, 1.0885623293317943], [120, 1.0926250774952686], [251, 1.0968715334609382], [104, 1.0990777983505136], [249, 1.1037380454776449], [3, 1.1071116428996197], [173, 1.109221669382382], [0, 1.1092339375523501], [70, 1.112230393879085], [242, 1.1140509215839758], [236, 1.1192119920962527], [189, 1.1239628401945803], [217, 1.129214849303496], [44, 1.1328231328805412], [212, 1.1341717958947908], [83, 1.1493479436485923], [1, 1.1502680886211962], [117, 1.1514306017893088], [194, 1.152540547925303], [137, 1.1556729646236323], [49, 1.160246167565037], [177, 1.1640620758234892], [26, 1.1673347481159717], [193, 1.1753006815917386], [95, 1.176276180906451], [238, 1.1773014877989183], [172, 1.1881242284268492], [152, 1.203581161634403], [97, 1.2191874462511307], [10, 1.2322248011918846], [18, 1.2338279212040162], [114, 1.2352818681454187], [67, 1.2395018351131326], [243, 1.2475873759947735], [51, 1.250572947842531], [116, 1.2539485225432112], [60, 1.2586988858574661], [98, 1.262937036290111], [229, 1.2642901866195726], [213, 1.2829473486267762], [124, 1.2860236500229096], [121, 1.287010479748455], [52, 1.2918782650671559], [8, 1.301692966094468], [87, 1.303987639372593], [220, 1.3092449138096753], [146, 1.310075091799901], [46, 1.31711022680486], [254, 1.3263187919024912], [89, 1.3302945379278628], [48, 1.3428054437739836], [23, 1.345028403731512], [183, 1.3458579749244246], [203, 1.3601426417472668], [105, 1.3620712403772233], [118, 1.3688798414593775], [19, 1.3714553856993887], [101, 1.3848908664306139], [151, 1.3911711460679437], [129, 1.3917616676139217], [130, 1.3928683616601547], [59, 1.3977610757291887], [28, 1.4002142860770634], [190, 1.402065226418982], [211, 1.4066872483018165], [45, 1.4084261632140707], [68, 1.424107405092307], [155, 1.4300022801225705], [78, 1.4334256985807765], [138, 1.43859763953428], [228, 1.438822718310989], [134, 1.4391900079492852], [176, 1.4508724661454082], [197, 1.4526361273071524], [63, 1.4573619906411341], [153, 1.4592904235770505], [17, 1.467339570030491], [252, 1.4693080280092672], [71, 1.4697264771221654], [40, 1.470826983551146], [84, 1.4807399218620843], [148, 1.485130453663377], [64, 1.4875373272239047], [119, 1.5037376744692437], [77, 1.5070113877322704], [245, 1.531484740226822], [107, 1.5356068778205854], [145, 1.5388399708886036], [96, 1.5442831342941], [253, 1.5489723243794926], [179, 1.5608184861488588], [208, 1.5618374163056896], [191, 1.5741211223790597], [74, 1.5911145270896347], [204, 1.5935758146046153], [62, 1.5940110780283376], [224, 1.610198898912682], [178, 1.6169085247972492], [122, 1.6169294518911745], [219, 1.6230873812009645], [247, 1.6342263440339846], [61, 1.6616558407365076], [34, 1.6882889751305745], [209, 1.727901622599373], [80, 1.7536956396918357], [192, 1.7667404056802845], [199, 1.7710547512993773], [167, 1.7883343199614221], [154, 1.7914901431385495], [24, 1.800627864830048], [123, 1.808040675666494], [47, 1.811787432628696], [128, 1.8131717913741825], [85, 1.8149975765852577], [73, 1.8177942964046958], [111, 1.8259204877142226], [241, 1.828588272352312], [216, 1.8288503169416277], [210, 1.8570594910123854], [15, 1.8633430888971443], [255, 1.8753019300556457], [170, 1.9067731865221194], [50, 1.916892393162658], [112, 1.9457631010616896], [93, 1.9498241939986491], [88, 1.950784366932496], [195, 1.9543158827073848], [11, 1.9644344569830579], [143, 1.969000773626671], [200, 1.9742000923430463], [102, 2.0261141177388335], [110, 2.0730943775791224], [36, 2.123042703863967], [125, 2.1390593096504382], [163, 2.183546023119741], [234, 2.1938752646192494], [20, 2.215086878568696], [165, 2.2587344311035693], [150, 2.266002061877706], [166, 2.2730846008803614], [131, 2.2854302360425027], [185, 2.2948441486604994], [33, 2.2985462572801905], [206, 2.383737067347658], [108, 2.488436039321784], [115, 2.547753409934019], [54, 2.7784061820480987]]\n",
            "suggested store is 79\n"
          ],
          "name": "stdout"
        }
      ]
    },
    {
      "cell_type": "code",
      "metadata": {
        "id": "lkLmEYsKyN0j",
        "colab_type": "code",
        "colab": {
          "base_uri": "https://localhost:8080/",
          "height": 54
        },
        "outputId": "60a0d70a-5c26-44d3-9784-b576328db4f1"
      },
      "source": [
        "print(list(zip(d[0].values.tolist(),d[3].values.tolist())))"
      ],
      "execution_count": 33,
      "outputs": [
        {
          "output_type": "stream",
          "text": [
            "[(230, 253), (133, 30), (239, 12), (209, 224), (158, 196), (175, 13), (172, 188), (130, 79), (162, 154), (44, 212), (218, 179), (217, 68), (247, 232), (198, 241), (51, 41), (50, 221), (79, 245), (205, 255), (222, 138), (56, 185), (209, 44), (135, 217), (154, 139), (66, 0), (28, 203), (212, 213), (214, 197), (191, 90), (232, 237), (176, 59), (87, 211), (217, 253), (138, 159), (103, 225), (156, 40), (105, 135), (96, 181), (171, 198), (59, 222), (50, 108), (217, 199), (172, 230), (238, 188), (249, 109), (142, 233), (245, 91), (111, 154), (241, 81), (188, 108), (223, 192), (114, 243), (25, 174), (188, 191), (114, 150), (250, 204), (123, 127), (206, 70), (204, 118), (227, 244), (54, 146), (187, 121), (251, 236), (31, 147), (180, 109), (181, 35), (247, 144), (193, 54), (197, 224), (217, 219), (172, 51), (102, 41), (219, 251), (245, 137), (200, 201), (8, 109), (4, 18), (248, 183), (201, 94), (101, 5), (105, 185), (44, 18), (247, 10), (211, 160), (226, 155), (136, 142), (228, 163), (44, 81), (204, 15), (147, 79), (235, 130), (55, 255), (64, 8), (223, 219), (172, 8), (150, 52), (62, 151), (192, 170), (66, 117), (253, 218), (32, 180), (9, 161), (70, 152), (214, 220), (232, 169), (27, 182), (24, 227), (211, 65), (230, 129), (121, 222), (200, 246), (231, 37), (208, 142), (189, 119), (28, 221), (64, 110), (151, 253), (95, 26), (217, 230), (82, 159), (175, 107), (197, 227), (204, 140), (4, 82), (240, 161), (153, 169), (75, 142), (187, 93), (43, 20), (89, 253), (225, 64), (180, 227), (133, 75), (131, 122), (253, 156), (252, 205), (235, 51), (117, 97), (189, 144), (190, 150), (207, 196), (131, 173), (208, 0), (233, 116), (138, 70), (215, 35), (196, 70), (149, 198), (130, 67), (221, 157), (179, 173), (136, 250), (125, 149), (106, 79), (146, 230), (200, 193), (247, 148), (64, 153), (81, 255), (83, 39), (243, 130), (42, 1), (57, 248), (197, 242), (222, 139), (83, 113), (192, 98), (227, 56), (63, 39), (132, 192), (132, 144), (39, 88), (153, 8), (237, 135), (188, 20), (74, 237), (162, 217), (137, 97), (236, 187), (130, 99), (116, 79), (210, 82), (240, 173), (51, 250), (34, 189), (172, 162), (219, 37), (92, 121), (109, 128), (228, 254), (126, 62), (163, 60), (164, 237), (59, 135), (136, 219), (164, 83), (57, 213), (175, 126), (248, 0), (193, 105), (177, 27), (222, 100), (214, 156), (214, 66), (154, 232), (156, 209), (222, 243), (163, 247), (127, 186), (0, 169), (172, 206), (252, 148), (241, 186), (37, 108), (76, 47), (187, 21), (38, 132), (237, 205), (241, 141), (176, 197), (111, 138), (140, 44), (46, 138), (181, 71), (216, 119), (250, 125), (248, 185), (253, 175), (4, 43), (155, 28), (245, 238), (135, 147), (174, 154), (245, 108), (54, 136), (171, 70), (252, 135), (251, 176), (249, 56), (185, 192), (240, 177), (114, 153), (228, 8), (250, 248), (249, 152), (174, 49), (235, 167), (8, 225), (190, 189), (37, 52), (247, 185), (36, 90), (161, 231), (172, 107), (123, 144), (101, 234), (78, 3), (216, 239), (34, 4), (228, 239), (187, 80), (8, 30), (33, 103), (157, 38), (59, 0), (226, 2), (92, 175), (33, 186), (224, 43), (219, 125), (153, 192), (200, 60), (242, 130), (134, 114), (250, 217), (228, 188), (67, 115), (110, 200), (138, 71), (72, 109), (177, 214), (216, 241), (116, 46), (88, 207), (247, 141), (102, 11), (210, 150), (219, 197), (203, 146), (176, 202), (67, 185), (239, 150), (71, 29), (94, 185), (64, 189), (107, 196), (212, 255), (138, 246), (204, 192), (227, 166), (255, 205), (138, 251), (46, 43), (4, 255), (55, 151), (203, 48), (145, 15), (183, 208), (31, 155), (85, 144), (182, 111), (35, 85), (252, 71), (190, 172), (233, 143), (178, 253), (172, 113), (161, 207), (223, 217), (183, 184), (30, 22), (172, 157), (170, 108), (232, 104), (44, 200), (236, 85), (62, 70), (248, 132), (65, 239), (137, 252), (248, 147), (228, 191), (168, 37), (173, 221), (63, 34), (201, 47), (163, 235), (154, 126), (240, 39), (43, 105), (242, 241), (13, 139), (232, 220), (180, 197), (229, 137), (180, 18), (238, 18), (222, 177), (28, 68), (52, 232), (197, 53), (76, 249), (140, 73), (176, 193), (9, 66), (192, 212), (227, 240), (253, 137), (237, 152), (244, 75), (173, 253), (208, 247), (115, 14), (192, 65), (200, 248), (237, 78), (196, 236), (126, 213), (86, 198), (183, 98), (227, 92), (112, 48), (75, 81), (114, 255), (179, 79), (88, 111), (126, 144), (229, 94), (75, 251), (200, 14), (190, 209), (245, 30), (246, 252), (133, 183), (250, 72), (53, 228), (203, 26), (252, 152), (119, 80), (58, 143), (255, 232), (124, 214), (219, 25), (252, 163), (158, 75), (185, 113), (84, 54), (58, 35), (21, 249), (244, 170), (142, 178), (201, 85), (74, 206), (209, 90), (168, 32), (132, 174), (201, 20), (210, 134), (222, 15), (19, 249), (205, 201), (238, 186), (236, 213), (88, 80), (142, 161), (25, 31), (249, 47), (111, 69), (221, 130), (214, 117), (103, 124), (179, 91), (93, 165), (113, 223), (210, 122), (241, 67), (36, 76), (145, 230), (202, 119), (215, 227), (247, 52), (189, 219), (218, 160), (55, 109), (234, 91), (105, 123), (52, 23), (148, 86), (156, 223), (189, 122), (51, 91), (243, 151), (177, 148), (9, 224), (211, 31), (52, 194), (200, 230), (240, 49), (116, 115), (53, 198), (153, 49), (224, 214), (57, 177), (153, 171), (118, 170), (208, 26), (166, 35), (148, 241), (170, 62), (244, 174), (192, 174), (140, 159), (179, 249), (213, 188), (218, 175), (19, 161), (245, 197), (0, 176), (150, 196), (176, 216), (186, 73), (228, 214), (235, 97), (253, 162), (192, 191), (234, 197), (145, 3), (134, 75), (176, 165), (163, 14), (144, 10), (224, 78), (85, 82), (205, 32), (65, 182), (45, 133), (120, 36), (250, 71), (68, 150), (147, 114), (227, 104), (196, 203), (11, 163), (177, 10), (207, 107), (176, 239), (137, 36), (40, 140), (184, 172), (59, 0), (158, 202), (181, 0), (71, 142), (155, 219), (92, 159), (241, 138), (42, 15), (80, 231), (248, 82), (50, 210), (38, 51), (180, 74), (137, 41), (131, 189), (147, 202), (61, 165), (85, 59), (207, 44), (234, 144), (125, 153), (125, 211), (189, 227), (211, 16), (208, 76), (40, 190), (254, 183), (249, 104), (164, 237), (189, 204), (187, 156), (179, 24), (201, 87), (44, 23), (20, 173), (57, 12), (201, 252), (236, 77), (86, 191), (40, 178), (173, 251), (235, 52), (23, 68), (107, 157), (207, 185), (100, 89), (155, 96), (203, 143), (116, 225), (155, 193), (228, 94), (136, 127), (102, 79), (75, 12), (77, 247), (115, 178), (37, 11), (206, 158), (197, 38), (230, 215), (144, 164), (207, 201), (113, 144), (47, 134), (255, 115), (194, 23), (28, 145), (109, 158), (228, 132), (251, 236), (178, 247), (169, 89), (80, 73), (150, 58), (185, 232), (48, 106), (86, 133), (242, 159), (173, 49), (49, 141), (215, 200), (114, 86), (61, 243), (38, 80), (192, 84), (33, 200), (222, 248), (231, 52), (20, 173), (219, 120), (71, 248), (157, 155), (215, 88), (138, 68), (243, 90), (19, 17), (198, 98), (119, 250), (230, 222), (194, 120), (250, 92), (172, 24), (164, 246), (227, 95), (189, 241), (183, 52), (194, 134), (179, 205), (81, 203), (40, 236), (44, 141), (113, 179), (223, 118), (126, 69), (236, 69), (250, 185), (169, 167), (228, 98), (254, 229), (184, 54), (188, 166), (96, 71), (14, 99), (24, 19), (65, 214), (64, 216), (212, 126), (109, 151), (220, 222), (26, 171), (75, 121), (243, 37), (190, 27), (102, 89), (236, 30), (126, 123), (156, 112), (213, 59), (248, 73), (238, 222), (239, 253), (23, 18), (28, 117), (146, 194), (92, 51), (122, 146), (67, 129), (118, 111), (143, 142), (189, 194), (172, 210), (178, 89), (245, 166), (58, 39), (130, 220), (67, 81), (24, 160), (65, 190), (161, 13), (225, 81), (43, 48), (76, 205), (249, 137), (238, 226), (76, 188), (220, 117), (237, 247), (137, 217), (234, 226), (170, 180), (88, 246), (231, 177), (221, 145), (246, 183), (92, 102), (90, 188), (97, 235), (231, 243), (99, 122), (249, 220), (105, 149), (162, 169), (252, 90), (228, 237), (246, 78), (115, 158), (188, 49), (22, 187), (68, 220), (176, 250), (115, 202), (215, 104), (63, 222), (116, 159), (174, 199), (32, 219), (247, 105), (11, 21), (249, 144), (196, 223), (205, 219), (195, 77), (14, 217), (124, 146), (132, 231), (245, 111), (216, 86), (106, 69), (117, 216), (221, 208), (49, 57), (99, 190), (199, 103), (159, 227), (201, 180), (216, 246), (63, 157), (153, 159), (29, 88), (186, 113), (224, 27), (197, 162), (221, 61), (221, 209), (151, 125), (242, 154), (18, 66), (175, 180), (185, 56), (135, 249), (243, 20), (48, 30), (227, 231), (188, 106), (131, 241), (209, 14), (66, 92), (230, 209), (182, 5), (92, 223), (124, 8), (140, 28), (85, 177), (114, 190), (178, 90), (2, 237), (109, 148), (50, 42), (216, 169), (0, 252), (201, 241), (26, 120), (252, 33), (201, 196), (84, 150), (154, 184), (0, 83), (81, 181), (195, 209), (220, 159), (244, 7), (66, 121), (226, 210), (171, 92), (252, 142), (102, 152), (245, 17), (22, 206), (143, 212), (214, 133), (205, 233), (172, 174), (248, 190), (214, 112), (184, 234), (196, 139), (10, 247), (181, 231), (183, 195), (21, 10), (147, 133), (219, 216), (43, 161), (113, 7), (247, 32), (184, 146), (37, 15), (58, 103), (162, 43), (6, 70), (75, 13), (210, 83), (156, 222), (7, 153), (82, 36), (129, 44), (125, 220), (215, 236), (40, 178), (93, 16), (145, 148), (212, 211), (244, 165), (145, 185), (150, 69), (161, 126), (77, 254), (129, 138), (166, 80), (176, 192), (186, 66), (158, 138), (204, 126), (229, 67), (207, 106), (234, 24), (115, 65), (30, 16), (30, 22), (121, 155), (223, 190), (176, 231), (64, 133), (61, 172), (238, 193), (225, 213), (117, 220), (102, 103), (49, 253), (153, 224), (164, 223), (225, 120), (72, 225), (243, 244), (86, 127), (213, 133), (227, 197), (175, 168), (129, 239), (23, 143), (181, 143), (39, 208), (6, 251), (77, 160), (200, 201), (149, 233), (230, 182), (190, 204), (136, 143), (251, 253), (100, 102), (98, 124), (29, 70), (225, 148), (60, 59), (222, 153), (229, 249), (215, 220), (179, 193), (186, 249), (165, 249), (252, 230), (206, 165), (252, 41), (246, 248), (88, 251), (69, 22), (222, 104), (4, 71), (213, 113), (94, 105), (216, 86), (204, 36), (109, 174), (166, 72), (83, 153), (115, 172), (13, 198), (124, 44), (58, 212), (74, 150), (195, 141), (248, 192), (227, 244), (34, 137), (40, 207), (215, 183), (123, 160), (3, 67), (164, 144), (212, 15), (146, 116), (182, 216), (246, 236), (130, 120), (57, 17), (25, 243), (180, 215), (25, 241), (249, 5), (251, 55), (170, 20), (240, 55), (189, 48), (255, 72), (177, 10), (115, 147), (213, 39), (80, 117), (208, 228), (241, 101), (234, 154), (17, 84), (138, 251), (127, 88), (150, 113), (195, 76), (129, 61), (191, 49), (152, 178), (168, 240), (214, 91), (70, 226), (167, 239), (184, 164), (77, 143), (49, 203), (77, 171), (134, 106), (63, 58), (117, 180), (86, 183), (219, 191), (235, 148), (6, 124), (213, 232), (100, 131), (4, 60), (127, 189), (205, 69), (94, 162), (181, 204), (244, 123), (249, 153), (234, 222), (9, 160), (127, 141), (95, 185), (236, 242), (210, 176), (245, 200), (152, 233), (71, 242), (157, 204), (111, 95), (246, 187), (31, 29), (188, 167), (111, 42), (189, 64), (28, 167), (226, 3), (118, 190), (6, 184), (241, 176), (96, 191), (11, 137), (234, 112), (229, 204), (97, 222), (78, 58), (5, 37), (187, 159), (177, 96), (207, 78), (96, 56), (169, 118), (255, 29), (212, 145), (185, 156), (205, 242), (82, 213), (157, 207), (254, 208), (107, 155), (95, 255), (138, 195), (235, 80), (125, 139), (180, 255), (5, 70), (59, 64), (231, 136), (231, 242), (10, 221), (212, 32), (243, 155), (237, 33), (52, 245), (71, 251), (142, 97), (197, 254)]\n"
          ],
          "name": "stdout"
        }
      ]
    },
    {
      "cell_type": "code",
      "metadata": {
        "id": "GbLWCNENjvff",
        "colab_type": "code",
        "colab": {}
      },
      "source": [
        "# for i in range(256):\n",
        "#   if i not in fav_stores:\n",
        "#     new_stores = pdf[str(i)].loc[similar]\n",
        "    \n"
      ],
      "execution_count": 0,
      "outputs": []
    },
    {
      "cell_type": "code",
      "metadata": {
        "id": "tumEyfl4XgBd",
        "colab_type": "code",
        "colab": {}
      },
      "source": [
        "# def recommend(pdf,d,l,uix):\n",
        "#   cos_sim_val = find_similarity(uix,pdf,d,l)\n",
        "#   print(cos_sim_val)"
      ],
      "execution_count": 0,
      "outputs": []
    },
    {
      "cell_type": "code",
      "metadata": {
        "id": "9P7LbwfScjU2",
        "colab_type": "code",
        "colab": {}
      },
      "source": [
        "\n"
      ],
      "execution_count": 0,
      "outputs": []
    },
    {
      "cell_type": "code",
      "metadata": {
        "id": "sv3PdZs6X0Gc",
        "colab_type": "code",
        "colab": {}
      },
      "source": [
        "# recommend(pdf,d,l,0)"
      ],
      "execution_count": 0,
      "outputs": []
    }
  ]
}