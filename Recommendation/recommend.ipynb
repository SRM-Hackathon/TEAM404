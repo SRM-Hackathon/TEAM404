{
  "nbformat": 4,
  "nbformat_minor": 0,
  "metadata": {
    "colab": {
      "name": "recommend.ipynb",
      "provenance": [],
      "collapsed_sections": []
    },
    "kernelspec": {
      "name": "python3",
      "display_name": "Python 3"
    },
    "accelerator": "GPU"
  },
  "cells": [
    {
      "cell_type": "markdown",
      "metadata": {
        "id": "rhWbH58uS5tN",
        "colab_type": "text"
      },
      "source": [
        "# recommendation "
      ]
    },
    {
      "cell_type": "code",
      "metadata": {
        "id": "8VWA7_FJGjqV",
        "colab_type": "code",
        "colab": {}
      },
      "source": [
        "import random\n",
        "import pandas as pd\n",
        "import numpy as np\n",
        "import matplotlib.pyplot as plt\n",
        "import seaborn as sns\n",
        "from sklearn.decomposition import PCA as pca\n",
        "from sklearn.preprocessing import StandardScaler"
      ],
      "execution_count": 0,
      "outputs": []
    },
    {
      "cell_type": "code",
      "metadata": {
        "id": "8bQ6AROMyvtF",
        "colab_type": "code",
        "colab": {}
      },
      "source": [
        "pca = pca(n_components=1)"
      ],
      "execution_count": 0,
      "outputs": []
    },
    {
      "cell_type": "markdown",
      "metadata": {
        "id": "4m6-8hMsK-8T",
        "colab_type": "text"
      },
      "source": [
        "### Simulation of data for Recommender system"
      ]
    },
    {
      "cell_type": "code",
      "metadata": {
        "id": "KSf_2cM0sKFe",
        "colab_type": "code",
        "colab": {}
      },
      "source": [
        "ts = [random.choice([round(np.random.normal(loc=60,scale=10)) for i in range(40)]+[round(np.random.normal(loc=120,scale=30)) for i in range(10)]+[random.randint(0,20) for i in range(50)]) for i in range(1000)]\n",
        "freq = [round(random.choice([np.random.normal(loc=5,scale=2) for i in range(10)]+[random.randint(0,1) for i in range(20)])) for i in range(1000)]\n",
        "df = pd.DataFrame(zip(ts,freq),columns=['ts','freq'])\n",
        "for i in range(1000):\n",
        "  if(df['ts'][i]<5):\n",
        "    df['freq'][i] = 0\n",
        "  if df['ts'][i] > 80:\n",
        "    df['freq'][i] = random.choice([1,2,3])\n",
        "  elif df['ts'][i]>30 and df['ts'][i]<80 :\n",
        "    df['freq'][i] = random.choice([2,3,4])"
      ],
      "execution_count": 0,
      "outputs": []
    },
    {
      "cell_type": "code",
      "metadata": {
        "id": "FIapt0FENoEc",
        "colab_type": "code",
        "outputId": "e476b3e6-c104-4b46-e41b-5e7e1d86ef92",
        "colab": {
          "base_uri": "https://localhost:8080/",
          "height": 206
        }
      },
      "source": [
        "df.head()"
      ],
      "execution_count": 0,
      "outputs": [
        {
          "output_type": "execute_result",
          "data": {
            "text/html": [
              "<div>\n",
              "<style scoped>\n",
              "    .dataframe tbody tr th:only-of-type {\n",
              "        vertical-align: middle;\n",
              "    }\n",
              "\n",
              "    .dataframe tbody tr th {\n",
              "        vertical-align: top;\n",
              "    }\n",
              "\n",
              "    .dataframe thead th {\n",
              "        text-align: right;\n",
              "    }\n",
              "</style>\n",
              "<table border=\"1\" class=\"dataframe\">\n",
              "  <thead>\n",
              "    <tr style=\"text-align: right;\">\n",
              "      <th></th>\n",
              "      <th>ts</th>\n",
              "      <th>freq</th>\n",
              "    </tr>\n",
              "  </thead>\n",
              "  <tbody>\n",
              "    <tr>\n",
              "      <th>0</th>\n",
              "      <td>72</td>\n",
              "      <td>2</td>\n",
              "    </tr>\n",
              "    <tr>\n",
              "      <th>1</th>\n",
              "      <td>50</td>\n",
              "      <td>3</td>\n",
              "    </tr>\n",
              "    <tr>\n",
              "      <th>2</th>\n",
              "      <td>175</td>\n",
              "      <td>2</td>\n",
              "    </tr>\n",
              "    <tr>\n",
              "      <th>3</th>\n",
              "      <td>114</td>\n",
              "      <td>2</td>\n",
              "    </tr>\n",
              "    <tr>\n",
              "      <th>4</th>\n",
              "      <td>69</td>\n",
              "      <td>4</td>\n",
              "    </tr>\n",
              "  </tbody>\n",
              "</table>\n",
              "</div>"
            ],
            "text/plain": [
              "    ts  freq\n",
              "0   72     2\n",
              "1   50     3\n",
              "2  175     2\n",
              "3  114     2\n",
              "4   69     4"
            ]
          },
          "metadata": {
            "tags": []
          },
          "execution_count": 4
        }
      ]
    },
    {
      "cell_type": "markdown",
      "metadata": {
        "id": "QcSeBbYTVReA",
        "colab_type": "text"
      },
      "source": [
        "ts:time_spent in a store\n",
        "freq: freq of visiting a store"
      ]
    },
    {
      "cell_type": "code",
      "metadata": {
        "id": "NtachQb3NmeM",
        "colab_type": "code",
        "colab": {}
      },
      "source": [
        "x = df.values\n",
        "x = StandardScaler().fit_transform(x)\n",
        "principalComponents = pca.fit_transform(x)\n",
        "principalComponents = [i[0] for i in principalComponents]\n",
        "fdfc = pd.DataFrame(df['freq'].values,columns=['freq'])\n",
        "pdfc = pd.DataFrame(zip(principalComponents,ts,freq),columns=['pcaval','ts','freq'])"
      ],
      "execution_count": 0,
      "outputs": []
    },
    {
      "cell_type": "code",
      "metadata": {
        "id": "EJzTSxAqsu0q",
        "colab_type": "code",
        "outputId": "29fa8653-ca94-408c-c679-47c0b848fed0",
        "colab": {
          "base_uri": "https://localhost:8080/",
          "height": 444
        }
      },
      "source": [
        "fig1,ax1 = plt.subplots(figsize=(12,7))\n",
        "sns.heatmap(pdfc.corr(method='spearman'),annot=True)\n",
        "ax1.set_title('Correlation Heatmap')\n",
        "plt.show()"
      ],
      "execution_count": 0,
      "outputs": [
        {
          "output_type": "display_data",
          "data": {
            "image/png": "[encoded data removed]",
            "text/plain": [
              "<Figure size 864x504 with 2 Axes>"
            ]
          },
          "metadata": {
            "tags": []
          }
        }
      ]
    },
    {
      "cell_type": "markdown",
      "metadata": {
        "id": "2jzibOUSLR2e",
        "colab_type": "text"
      },
      "source": [
        "### In the data,we have two features time spent and frequency for every user for every store. This creates 3 dimensions. S0, PCA is applied on those two features and a pca value is found.The above correlation heatmap suggests that there is a strong corr btwn pcaval and ts.  "
      ]
    },
    {
      "cell_type": "code",
      "metadata": {
        "id": "TMtZOTHEmjeE",
        "colab_type": "code",
        "colab": {}
      },
      "source": [
        "pdf = pd.DataFrame()\n",
        "fdf = pd.DataFrame()\n",
        "for j in range(256):\n",
        "  ts = [random.choice([round(np.random.normal(loc=60,scale=10)) for i in range(40)]+[round(np.random.normal(loc=120,scale=30)) for i in range(10)]+[random.randint(0,20) for i in range(50)]) for i in range(1000)]\n",
        "  freq = [round(random.choice([np.random.normal(loc=5,scale=2) for i in range(10)]+[random.randint(0,1) for i in range(20)])) for i in range(1000)]\n",
        "  df = pd.DataFrame(zip(ts,freq),columns=['ts','freq'])\n",
        "  for i in range(1000):\n",
        "    if df['freq'][i] < 0:\n",
        "      df['freq'][i] == 1\n",
        "    if(df['ts'][i]<5):\n",
        "      df['freq'][i] = 0\n",
        "    if df['ts'][i] > 80:\n",
        "      df['freq'][i] = random.choice([1,2,3])\n",
        "    elif df['ts'][i]>30 and df['ts'][i]<80 :\n",
        "      df['freq'][i] = random.choice([2,3,4])\n",
        "\n",
        "  x = df.values\n",
        "  x = StandardScaler().fit_transform(x)\n",
        "  principalComponents = pca.fit_transform(x)\n",
        "  fdf.insert(j, str(j), df['freq'].values, True)\n",
        "  pdf.insert(j, str(j), [l[0] for l in principalComponents], True)"
      ],
      "execution_count": 0,
      "outputs": []
    },
    {
      "cell_type": "code",
      "metadata": {
        "id": "ZSI5fG16DNv2",
        "colab_type": "code",
        "colab": {}
      },
      "source": [
        "# top 5\n",
        "top5 = []\n",
        "c = list(range(1000))\n",
        "for i in range(1000):\n",
        "  l = sorted(zip(fdf.iloc[[i]].values[0].tolist(),c),reverse=True)[:5]\n",
        "  top5.append([i,l])\n",
        "  "
      ],
      "execution_count": 0,
      "outputs": []
    },
    {
      "cell_type": "markdown",
      "metadata": {
        "id": "Fy0wwFTXMEPS",
        "colab_type": "text"
      },
      "source": [
        "### The above or below code,both of these,can find top 5 stores that a user would want to visit."
      ]
    },
    {
      "cell_type": "code",
      "metadata": {
        "id": "EN_8zBIjEiRP",
        "colab_type": "code",
        "colab": {}
      },
      "source": [
        "#top5\n",
        "d = pd.DataFrame([[id for f,id in sorted([list(a) for a in zip(fdf.iloc[[i]].values[0].tolist(),c)],reverse=True)] for i in range(1000)])"
      ],
      "execution_count": 0,
      "outputs": []
    },
    {
      "cell_type": "code",
      "metadata": {
        "id": "RHUqgy83Ev9t",
        "colab_type": "code",
        "outputId": "9b09cf1a-68b8-4b0f-e117-d371e00be571",
        "colab": {
          "base_uri": "https://localhost:8080/",
          "height": 256
        }
      },
      "source": [
        "d.head()"
      ],
      "execution_count": 0,
      "outputs": [
        {
          "output_type": "execute_result",
          "data": {
            "text/html": [
              "<div>\n",
              "<style scoped>\n",
              "    .dataframe tbody tr th:only-of-type {\n",
              "        vertical-align: middle;\n",
              "    }\n",
              "\n",
              "    .dataframe tbody tr th {\n",
              "        vertical-align: top;\n",
              "    }\n",
              "\n",
              "    .dataframe thead th {\n",
              "        text-align: right;\n",
              "    }\n",
              "</style>\n",
              "<table border=\"1\" class=\"dataframe\">\n",
              "  <thead>\n",
              "    <tr style=\"text-align: right;\">\n",
              "      <th></th>\n",
              "      <th>0</th>\n",
              "      <th>1</th>\n",
              "      <th>2</th>\n",
              "      <th>3</th>\n",
              "      <th>4</th>\n",
              "      <th>5</th>\n",
              "      <th>6</th>\n",
              "      <th>7</th>\n",
              "      <th>8</th>\n",
              "      <th>9</th>\n",
              "      <th>10</th>\n",
              "      <th>11</th>\n",
              "      <th>12</th>\n",
              "      <th>13</th>\n",
              "      <th>14</th>\n",
              "      <th>15</th>\n",
              "      <th>16</th>\n",
              "      <th>17</th>\n",
              "      <th>18</th>\n",
              "      <th>19</th>\n",
              "      <th>20</th>\n",
              "      <th>21</th>\n",
              "      <th>22</th>\n",
              "      <th>23</th>\n",
              "      <th>24</th>\n",
              "      <th>25</th>\n",
              "      <th>26</th>\n",
              "      <th>27</th>\n",
              "      <th>28</th>\n",
              "      <th>29</th>\n",
              "      <th>30</th>\n",
              "      <th>31</th>\n",
              "      <th>32</th>\n",
              "      <th>33</th>\n",
              "      <th>34</th>\n",
              "      <th>35</th>\n",
              "      <th>36</th>\n",
              "      <th>37</th>\n",
              "      <th>38</th>\n",
              "      <th>39</th>\n",
              "      <th>...</th>\n",
              "      <th>216</th>\n",
              "      <th>217</th>\n",
              "      <th>218</th>\n",
              "      <th>219</th>\n",
              "      <th>220</th>\n",
              "      <th>221</th>\n",
              "      <th>222</th>\n",
              "      <th>223</th>\n",
              "      <th>224</th>\n",
              "      <th>225</th>\n",
              "      <th>226</th>\n",
              "      <th>227</th>\n",
              "      <th>228</th>\n",
              "      <th>229</th>\n",
              "      <th>230</th>\n",
              "      <th>231</th>\n",
              "      <th>232</th>\n",
              "      <th>233</th>\n",
              "      <th>234</th>\n",
              "      <th>235</th>\n",
              "      <th>236</th>\n",
              "      <th>237</th>\n",
              "      <th>238</th>\n",
              "      <th>239</th>\n",
              "      <th>240</th>\n",
              "      <th>241</th>\n",
              "      <th>242</th>\n",
              "      <th>243</th>\n",
              "      <th>244</th>\n",
              "      <th>245</th>\n",
              "      <th>246</th>\n",
              "      <th>247</th>\n",
              "      <th>248</th>\n",
              "      <th>249</th>\n",
              "      <th>250</th>\n",
              "      <th>251</th>\n",
              "      <th>252</th>\n",
              "      <th>253</th>\n",
              "      <th>254</th>\n",
              "      <th>255</th>\n",
              "    </tr>\n",
              "  </thead>\n",
              "  <tbody>\n",
              "    <tr>\n",
              "      <th>0</th>\n",
              "      <td>38</td>\n",
              "      <td>21</td>\n",
              "      <td>195</td>\n",
              "      <td>189</td>\n",
              "      <td>5</td>\n",
              "      <td>238</td>\n",
              "      <td>192</td>\n",
              "      <td>168</td>\n",
              "      <td>150</td>\n",
              "      <td>127</td>\n",
              "      <td>116</td>\n",
              "      <td>67</td>\n",
              "      <td>57</td>\n",
              "      <td>44</td>\n",
              "      <td>2</td>\n",
              "      <td>251</td>\n",
              "      <td>210</td>\n",
              "      <td>184</td>\n",
              "      <td>134</td>\n",
              "      <td>254</td>\n",
              "      <td>240</td>\n",
              "      <td>236</td>\n",
              "      <td>230</td>\n",
              "      <td>227</td>\n",
              "      <td>226</td>\n",
              "      <td>216</td>\n",
              "      <td>198</td>\n",
              "      <td>197</td>\n",
              "      <td>188</td>\n",
              "      <td>171</td>\n",
              "      <td>157</td>\n",
              "      <td>155</td>\n",
              "      <td>147</td>\n",
              "      <td>145</td>\n",
              "      <td>139</td>\n",
              "      <td>137</td>\n",
              "      <td>132</td>\n",
              "      <td>131</td>\n",
              "      <td>124</td>\n",
              "      <td>122</td>\n",
              "      <td>...</td>\n",
              "      <td>159</td>\n",
              "      <td>158</td>\n",
              "      <td>156</td>\n",
              "      <td>154</td>\n",
              "      <td>153</td>\n",
              "      <td>149</td>\n",
              "      <td>142</td>\n",
              "      <td>140</td>\n",
              "      <td>136</td>\n",
              "      <td>135</td>\n",
              "      <td>118</td>\n",
              "      <td>117</td>\n",
              "      <td>112</td>\n",
              "      <td>105</td>\n",
              "      <td>102</td>\n",
              "      <td>97</td>\n",
              "      <td>96</td>\n",
              "      <td>94</td>\n",
              "      <td>93</td>\n",
              "      <td>91</td>\n",
              "      <td>84</td>\n",
              "      <td>83</td>\n",
              "      <td>81</td>\n",
              "      <td>79</td>\n",
              "      <td>77</td>\n",
              "      <td>75</td>\n",
              "      <td>74</td>\n",
              "      <td>65</td>\n",
              "      <td>59</td>\n",
              "      <td>56</td>\n",
              "      <td>55</td>\n",
              "      <td>47</td>\n",
              "      <td>46</td>\n",
              "      <td>37</td>\n",
              "      <td>32</td>\n",
              "      <td>30</td>\n",
              "      <td>19</td>\n",
              "      <td>15</td>\n",
              "      <td>12</td>\n",
              "      <td>4</td>\n",
              "    </tr>\n",
              "    <tr>\n",
              "      <th>1</th>\n",
              "      <td>219</td>\n",
              "      <td>164</td>\n",
              "      <td>120</td>\n",
              "      <td>69</td>\n",
              "      <td>25</td>\n",
              "      <td>170</td>\n",
              "      <td>146</td>\n",
              "      <td>94</td>\n",
              "      <td>92</td>\n",
              "      <td>85</td>\n",
              "      <td>80</td>\n",
              "      <td>45</td>\n",
              "      <td>23</td>\n",
              "      <td>222</td>\n",
              "      <td>175</td>\n",
              "      <td>137</td>\n",
              "      <td>103</td>\n",
              "      <td>76</td>\n",
              "      <td>60</td>\n",
              "      <td>31</td>\n",
              "      <td>6</td>\n",
              "      <td>156</td>\n",
              "      <td>133</td>\n",
              "      <td>36</td>\n",
              "      <td>10</td>\n",
              "      <td>254</td>\n",
              "      <td>250</td>\n",
              "      <td>245</td>\n",
              "      <td>239</td>\n",
              "      <td>236</td>\n",
              "      <td>229</td>\n",
              "      <td>227</td>\n",
              "      <td>221</td>\n",
              "      <td>218</td>\n",
              "      <td>215</td>\n",
              "      <td>211</td>\n",
              "      <td>210</td>\n",
              "      <td>200</td>\n",
              "      <td>199</td>\n",
              "      <td>191</td>\n",
              "      <td>...</td>\n",
              "      <td>197</td>\n",
              "      <td>184</td>\n",
              "      <td>176</td>\n",
              "      <td>169</td>\n",
              "      <td>167</td>\n",
              "      <td>163</td>\n",
              "      <td>158</td>\n",
              "      <td>157</td>\n",
              "      <td>154</td>\n",
              "      <td>153</td>\n",
              "      <td>152</td>\n",
              "      <td>145</td>\n",
              "      <td>142</td>\n",
              "      <td>136</td>\n",
              "      <td>127</td>\n",
              "      <td>125</td>\n",
              "      <td>122</td>\n",
              "      <td>111</td>\n",
              "      <td>106</td>\n",
              "      <td>95</td>\n",
              "      <td>88</td>\n",
              "      <td>86</td>\n",
              "      <td>81</td>\n",
              "      <td>77</td>\n",
              "      <td>73</td>\n",
              "      <td>68</td>\n",
              "      <td>66</td>\n",
              "      <td>62</td>\n",
              "      <td>57</td>\n",
              "      <td>55</td>\n",
              "      <td>52</td>\n",
              "      <td>46</td>\n",
              "      <td>39</td>\n",
              "      <td>30</td>\n",
              "      <td>29</td>\n",
              "      <td>28</td>\n",
              "      <td>22</td>\n",
              "      <td>18</td>\n",
              "      <td>12</td>\n",
              "      <td>2</td>\n",
              "    </tr>\n",
              "    <tr>\n",
              "      <th>2</th>\n",
              "      <td>135</td>\n",
              "      <td>16</td>\n",
              "      <td>190</td>\n",
              "      <td>34</td>\n",
              "      <td>179</td>\n",
              "      <td>173</td>\n",
              "      <td>160</td>\n",
              "      <td>155</td>\n",
              "      <td>122</td>\n",
              "      <td>193</td>\n",
              "      <td>174</td>\n",
              "      <td>170</td>\n",
              "      <td>153</td>\n",
              "      <td>123</td>\n",
              "      <td>112</td>\n",
              "      <td>107</td>\n",
              "      <td>81</td>\n",
              "      <td>66</td>\n",
              "      <td>48</td>\n",
              "      <td>47</td>\n",
              "      <td>45</td>\n",
              "      <td>252</td>\n",
              "      <td>241</td>\n",
              "      <td>240</td>\n",
              "      <td>235</td>\n",
              "      <td>151</td>\n",
              "      <td>106</td>\n",
              "      <td>13</td>\n",
              "      <td>6</td>\n",
              "      <td>254</td>\n",
              "      <td>249</td>\n",
              "      <td>236</td>\n",
              "      <td>231</td>\n",
              "      <td>226</td>\n",
              "      <td>222</td>\n",
              "      <td>220</td>\n",
              "      <td>219</td>\n",
              "      <td>210</td>\n",
              "      <td>203</td>\n",
              "      <td>199</td>\n",
              "      <td>...</td>\n",
              "      <td>158</td>\n",
              "      <td>141</td>\n",
              "      <td>140</td>\n",
              "      <td>131</td>\n",
              "      <td>129</td>\n",
              "      <td>127</td>\n",
              "      <td>126</td>\n",
              "      <td>125</td>\n",
              "      <td>117</td>\n",
              "      <td>111</td>\n",
              "      <td>108</td>\n",
              "      <td>94</td>\n",
              "      <td>91</td>\n",
              "      <td>85</td>\n",
              "      <td>83</td>\n",
              "      <td>82</td>\n",
              "      <td>74</td>\n",
              "      <td>72</td>\n",
              "      <td>70</td>\n",
              "      <td>69</td>\n",
              "      <td>68</td>\n",
              "      <td>67</td>\n",
              "      <td>65</td>\n",
              "      <td>63</td>\n",
              "      <td>62</td>\n",
              "      <td>61</td>\n",
              "      <td>54</td>\n",
              "      <td>46</td>\n",
              "      <td>44</td>\n",
              "      <td>40</td>\n",
              "      <td>36</td>\n",
              "      <td>30</td>\n",
              "      <td>26</td>\n",
              "      <td>21</td>\n",
              "      <td>18</td>\n",
              "      <td>17</td>\n",
              "      <td>12</td>\n",
              "      <td>9</td>\n",
              "      <td>4</td>\n",
              "      <td>1</td>\n",
              "    </tr>\n",
              "    <tr>\n",
              "      <th>3</th>\n",
              "      <td>252</td>\n",
              "      <td>136</td>\n",
              "      <td>93</td>\n",
              "      <td>34</td>\n",
              "      <td>213</td>\n",
              "      <td>207</td>\n",
              "      <td>179</td>\n",
              "      <td>170</td>\n",
              "      <td>27</td>\n",
              "      <td>180</td>\n",
              "      <td>166</td>\n",
              "      <td>109</td>\n",
              "      <td>84</td>\n",
              "      <td>66</td>\n",
              "      <td>53</td>\n",
              "      <td>37</td>\n",
              "      <td>249</td>\n",
              "      <td>247</td>\n",
              "      <td>240</td>\n",
              "      <td>238</td>\n",
              "      <td>235</td>\n",
              "      <td>231</td>\n",
              "      <td>230</td>\n",
              "      <td>226</td>\n",
              "      <td>223</td>\n",
              "      <td>197</td>\n",
              "      <td>196</td>\n",
              "      <td>186</td>\n",
              "      <td>185</td>\n",
              "      <td>183</td>\n",
              "      <td>175</td>\n",
              "      <td>164</td>\n",
              "      <td>163</td>\n",
              "      <td>157</td>\n",
              "      <td>154</td>\n",
              "      <td>149</td>\n",
              "      <td>146</td>\n",
              "      <td>137</td>\n",
              "      <td>126</td>\n",
              "      <td>112</td>\n",
              "      <td>...</td>\n",
              "      <td>152</td>\n",
              "      <td>151</td>\n",
              "      <td>148</td>\n",
              "      <td>140</td>\n",
              "      <td>139</td>\n",
              "      <td>134</td>\n",
              "      <td>125</td>\n",
              "      <td>122</td>\n",
              "      <td>120</td>\n",
              "      <td>118</td>\n",
              "      <td>115</td>\n",
              "      <td>113</td>\n",
              "      <td>107</td>\n",
              "      <td>106</td>\n",
              "      <td>103</td>\n",
              "      <td>101</td>\n",
              "      <td>98</td>\n",
              "      <td>92</td>\n",
              "      <td>91</td>\n",
              "      <td>90</td>\n",
              "      <td>88</td>\n",
              "      <td>87</td>\n",
              "      <td>86</td>\n",
              "      <td>82</td>\n",
              "      <td>81</td>\n",
              "      <td>74</td>\n",
              "      <td>70</td>\n",
              "      <td>68</td>\n",
              "      <td>56</td>\n",
              "      <td>55</td>\n",
              "      <td>43</td>\n",
              "      <td>38</td>\n",
              "      <td>28</td>\n",
              "      <td>24</td>\n",
              "      <td>23</td>\n",
              "      <td>21</td>\n",
              "      <td>18</td>\n",
              "      <td>14</td>\n",
              "      <td>6</td>\n",
              "      <td>3</td>\n",
              "    </tr>\n",
              "    <tr>\n",
              "      <th>4</th>\n",
              "      <td>155</td>\n",
              "      <td>90</td>\n",
              "      <td>195</td>\n",
              "      <td>138</td>\n",
              "      <td>69</td>\n",
              "      <td>235</td>\n",
              "      <td>216</td>\n",
              "      <td>205</td>\n",
              "      <td>196</td>\n",
              "      <td>190</td>\n",
              "      <td>62</td>\n",
              "      <td>243</td>\n",
              "      <td>197</td>\n",
              "      <td>178</td>\n",
              "      <td>168</td>\n",
              "      <td>164</td>\n",
              "      <td>45</td>\n",
              "      <td>18</td>\n",
              "      <td>236</td>\n",
              "      <td>191</td>\n",
              "      <td>171</td>\n",
              "      <td>110</td>\n",
              "      <td>88</td>\n",
              "      <td>35</td>\n",
              "      <td>252</td>\n",
              "      <td>247</td>\n",
              "      <td>246</td>\n",
              "      <td>232</td>\n",
              "      <td>226</td>\n",
              "      <td>220</td>\n",
              "      <td>212</td>\n",
              "      <td>203</td>\n",
              "      <td>202</td>\n",
              "      <td>198</td>\n",
              "      <td>194</td>\n",
              "      <td>192</td>\n",
              "      <td>185</td>\n",
              "      <td>183</td>\n",
              "      <td>182</td>\n",
              "      <td>174</td>\n",
              "      <td>...</td>\n",
              "      <td>218</td>\n",
              "      <td>213</td>\n",
              "      <td>211</td>\n",
              "      <td>208</td>\n",
              "      <td>204</td>\n",
              "      <td>199</td>\n",
              "      <td>180</td>\n",
              "      <td>179</td>\n",
              "      <td>176</td>\n",
              "      <td>175</td>\n",
              "      <td>166</td>\n",
              "      <td>153</td>\n",
              "      <td>145</td>\n",
              "      <td>140</td>\n",
              "      <td>137</td>\n",
              "      <td>132</td>\n",
              "      <td>128</td>\n",
              "      <td>125</td>\n",
              "      <td>122</td>\n",
              "      <td>114</td>\n",
              "      <td>109</td>\n",
              "      <td>106</td>\n",
              "      <td>103</td>\n",
              "      <td>96</td>\n",
              "      <td>94</td>\n",
              "      <td>86</td>\n",
              "      <td>78</td>\n",
              "      <td>73</td>\n",
              "      <td>63</td>\n",
              "      <td>59</td>\n",
              "      <td>50</td>\n",
              "      <td>44</td>\n",
              "      <td>37</td>\n",
              "      <td>34</td>\n",
              "      <td>32</td>\n",
              "      <td>29</td>\n",
              "      <td>14</td>\n",
              "      <td>10</td>\n",
              "      <td>8</td>\n",
              "      <td>7</td>\n",
              "    </tr>\n",
              "  </tbody>\n",
              "</table>\n",
              "<p>5 rows × 256 columns</p>\n",
              "</div>"
            ],
            "text/plain": [
              "   0    1    2    3    4    5    6    ...  249  250  251  252  253  254  255\n",
              "0   38   21  195  189    5  238  192  ...   37   32   30   19   15   12    4\n",
              "1  219  164  120   69   25  170  146  ...   30   29   28   22   18   12    2\n",
              "2  135   16  190   34  179  173  160  ...   21   18   17   12    9    4    1\n",
              "3  252  136   93   34  213  207  179  ...   24   23   21   18   14    6    3\n",
              "4  155   90  195  138   69  235  216  ...   34   32   29   14   10    8    7\n",
              "\n",
              "[5 rows x 256 columns]"
            ]
          },
          "metadata": {
            "tags": []
          },
          "execution_count": 10
        }
      ]
    },
    {
      "cell_type": "code",
      "metadata": {
        "id": "irRqNkhB8JIx",
        "colab_type": "code",
        "colab": {}
      },
      "source": [
        "from sklearn.metrics.pairwise import cosine_similarity"
      ],
      "execution_count": 0,
      "outputs": []
    },
    {
      "cell_type": "code",
      "metadata": {
        "id": "jFUFHq39S3pB",
        "colab_type": "code",
        "colab": {}
      },
      "source": [
        "l = list(range(256))"
      ],
      "execution_count": 0,
      "outputs": []
    },
    {
      "cell_type": "code",
      "metadata": {
        "id": "zD0BRsmzhqZt",
        "colab_type": "code",
        "colab": {}
      },
      "source": [
        ""
      ],
      "execution_count": 0,
      "outputs": []
    },
    {
      "cell_type": "markdown",
      "metadata": {
        "id": "bP8mPnTIMeeq",
        "colab_type": "text"
      },
      "source": [
        "### Implementing cosine similarity"
      ]
    },
    {
      "cell_type": "code",
      "metadata": {
        "id": "75frNpS0aY6E",
        "colab_type": "code",
        "colab": {}
      },
      "source": [
        "def cos_sim(a, b):\n",
        "    a = np.squeeze(np.asarray(a))\n",
        "    b = np.squeeze(np.asarray(b))\n",
        "    dot_product = np.dot(a, b)\n",
        "    norm_a = np.linalg.norm(a)\n",
        "    norm_b = np.linalg.norm(b)\n",
        "    return dot_product / (norm_a * norm_b)"
      ],
      "execution_count": 0,
      "outputs": []
    },
    {
      "cell_type": "code",
      "metadata": {
        "id": "46bCq46XLaNQ",
        "colab_type": "code",
        "outputId": "a84b5e48-6497-444d-8a20-b673bd827f43",
        "colab": {
          "base_uri": "https://localhost:8080/",
          "height": 106
        }
      },
      "source": [
        "# def find_similarity(pdf,d,l,uix):\n",
        "uix = 3\n",
        "minx = -1 \n",
        "maxx = 1\n",
        "fav_stores = d[l[:5]].loc[uix].values.tolist()\n",
        "print(\"The favourite stores of {} are {}\".format(uix,fav_stores))\n",
        "fav = pdf[[str(i) for i in fav_stores]]\n",
        "des_user_vector = np.array(fav.loc[[uix]])\n",
        "# print(des_user_vector)\n",
        "cos_sim_val = []\n",
        "for i in range(1000):\n",
        "  if i != uix:\n",
        "    other_user_vector = np.array(fav.loc[[i]])\n",
        "    cs = (cos_sim(des_user_vector, other_user_vector)-minx)/(maxx-minx)\n",
        "    # print(cs)\n",
        "    cos_sim_val.append([cs,i])\n",
        "print(\"cosine similarities are {}\".format(cos_sim_val))\n",
        "print(sorted(cos_sim_val,reverse=True)[:5])\n",
        "similar = [id for s,id in sorted(cos_sim_val,reverse=True)[:5]]\n",
        "print(\"users similar to {} are {}\".format(uix,similar))\n",
        "\n",
        "\n",
        "\n",
        "  # return cos_sim_val\n"
      ],
      "execution_count": 0,
      "outputs": [
        {
          "output_type": "stream",
          "text": [
            "The favourite stores of 3 are [252, 136, 93, 34, 213]\n",
            "cosine similarities are [[0.1716366301824741, 0], [0.5128223131998692, 1], [0.79856140530322, 2], [0.26577139943091777, 4], [0.6564391479431484, 5], [0.7107911892078802, 6], [0.8366609328301762, 7], [0.6753790300660218, 8], [0.7070602596231897, 9], [0.47499469022658125, 10], [0.1842911130291317, 11], [0.7727760855672575, 12], [0.13262940835571724, 13], [0.7096011394437048, 14], [0.7381023788651511, 15], [0.11588400101963292, 16], [0.43035939385847066, 17], [0.9388145249808868, 18], [0.5087535590807906, 19], [0.4931054252726775, 20], [0.17391154335421355, 21], [0.5867856509053443, 22], [0.26565748528054195, 23], [0.5476400724546853, 24], [0.3825326758791822, 25], [0.44717182033939346, 26], [0.32267912237702645, 27], [0.39159970648408654, 28], [0.6707635899500051, 29], [0.7237716732948367, 30], [0.9373442531405457, 31], [0.3698898739246661, 32], [0.5983025956319115, 33], [0.12131766736132965, 34], [0.4125168654076136, 35], [0.8012939919850247, 36], [0.37964609711345576, 37], [0.4917065914401918, 38], [0.5932432542651825, 39], [0.721584600623316, 40], [0.9652797217086345, 41], [0.4513925752093513, 42], [0.6093413335693778, 43], [0.6682879808644759, 44], [0.3832838896972881, 45], [0.37410147342790295, 46], [0.6407181208310069, 47], [0.2576875458701015, 48], [0.31442852238662355, 49], [0.4322244213693304, 50], [0.761841786176487, 51], [0.6761239372873842, 52], [0.6879234384422551, 53], [0.580439314861596, 54], [0.4835705235684567, 55], [0.21579887952255594, 56], [0.40852740050635183, 57], [0.4073832813331059, 58], [0.3560232728946666, 59], [0.6866566377069916, 60], [0.3870277984518128, 61], [0.721938658843386, 62], [0.5758407338120696, 63], [0.6846664246603328, 64], [0.7782829576682262, 65], [0.5984109786105941, 66], [0.5026820275124491, 67], [0.4267808840512194, 68], [0.6620822627999411, 69], [0.6284088759530289, 70], [0.7506406487521671, 71], [0.40156060099733343, 72], [0.4989350116708368, 73], [0.686015197153486, 74], [0.627016988104791, 75], [0.4753136083991286, 76], [0.6194043967155702, 77], [0.7293775340585498, 78], [0.6461111300475888, 79], [0.41856533245388705, 80], [0.496381704253539, 81], [0.3497205587920362, 82], [0.46163556353265045, 83], [0.4134697653374307, 84], [0.6953538033905202, 85], [0.699057303047619, 86], [0.36426363111657106, 87], [0.3529936941823486, 88], [0.3876980182225993, 89], [0.5379163215309982, 90], [0.46157593577150907, 91], [0.3923877682084441, 92], [0.6700459797684825, 93], [0.6083754890512052, 94], [0.1541901213714395, 95], [0.1096186825526771, 96], [0.5536712269790928, 97], [0.7635736339597232, 98], [0.9497463324588707, 99], [0.511862051597275, 100], [0.23055138015622306, 101], [0.42859291115535086, 102], [0.5611418579501529, 103], [0.36213278281578876, 104], [0.14857237919952404, 105], [0.5454168393564874, 106], [0.9691064656983446, 107], [0.3572454792173842, 108], [0.3937905171241262, 109], [0.21064821991126714, 110], [0.01186905067161037, 111], [0.3150768181998522, 112], [0.5160992369358545, 113], [0.3764873759850123, 114], [0.746117393492309, 115], [0.5007280474981435, 116], [0.5983962026695989, 117], [0.2986189699503953, 118], [0.6938477576193751, 119], [0.186045898617209, 120], [0.4056985326965975, 121], [0.5117283284198345, 122], [0.44803513372726955, 123], [0.9157811528264862, 124], [0.371463659058259, 125], [0.7654452637923984, 126], [0.5767540478068521, 127], [0.06777672598848244, 128], [0.6740624011534242, 129], [0.9075323771323298, 130], [0.6524976197365981, 131], [0.4572371314083815, 132], [0.37541974739541817, 133], [0.49679875901896, 134], [0.21866434400793472, 135], [0.24571568277670436, 136], [0.322478223601943, 137], [0.5783878141553387, 138], [0.40327036482999556, 139], [0.7702842880650349, 140], [0.6034461953433978, 141], [0.6423070214969284, 142], [0.6266648896258069, 143], [0.3964485387959776, 144], [0.3184084430125471, 145], [0.995188439361238, 146], [0.4747524474987905, 147], [0.31223916153219333, 148], [0.5793728729505567, 149], [0.22792342364723506, 150], [0.487681962299146, 151], [0.49703789802396436, 152], [0.6435998174676282, 153], [0.35572395964345815, 154], [0.21747422053455195, 155], [0.700952628669249, 156], [0.3358087504882332, 157], [0.2152956551793797, 158], [0.6255008010998151, 159], [0.5462641434049234, 160], [0.8047231133652758, 161], [0.7826696487007714, 162], [0.5668218112593683, 163], [0.35608738738341306, 164], [0.6286783697174078, 165], [0.6020433646322471, 166], [0.6909544836400958, 167], [0.857046805096001, 168], [0.34370105024445796, 169], [0.08080678439125749, 170], [0.738803579785884, 171], [0.7769638153226424, 172], [0.14753546574837223, 173], [0.22029422432914342, 174], [0.4867666597678769, 175], [0.47157649623627695, 176], [0.11072517095671347, 177], [0.9685845939484106, 178], [0.47262423906602835, 179], [0.3028237020861453, 180], [0.5776255981391374, 181], [0.4834741286600984, 182], [0.22526719290937408, 183], [0.5891356219533106, 184], [0.7226182697655111, 185], [0.7123307204444231, 186], [0.740539369633961, 187], [0.08328049571905205, 188], [0.20301068840185515, 189], [0.32646241936251064, 190], [0.9445828368942524, 191], [0.5128503992499451, 192], [0.3441276109111378, 193], [0.5989542393004931, 194], [0.8097202379540906, 195], [0.5855900977901571, 196], [0.45461125239570427, 197], [0.4443928379379892, 198], [0.45315586372819827, 199], [0.4362474663043113, 200], [0.5800271419186622, 201], [0.12089428496865168, 202], [0.4611238879170302, 203], [0.2892075240882438, 204], [0.737835006212958, 205], [0.420870718034126, 206], [0.7950815399376923, 207], [0.3270039020648631, 208], [0.45894334129980724, 209], [0.6390784266244057, 210], [0.5517871910887021, 211], [0.7808828360820181, 212], [0.7475297480823554, 213], [0.27450085282912023, 214], [0.24513853630067783, 215], [0.9631029474265422, 216], [0.3888869587286884, 217], [0.3845024825321772, 218], [0.4310852443625785, 219], [0.41938175321892995, 220], [0.4389107790132549, 221], [0.2009446729116649, 222], [0.7047425387283345, 223], [0.820414950479686, 224], [0.612169288108993, 225], [0.725245450070005, 226], [0.7042199704194855, 227], [0.6276124214062906, 228], [0.2682183903620032, 229], [0.45152317184423896, 230], [0.28721625655530897, 231], [0.6205344362088183, 232], [0.24379849060941067, 233], [0.5514533492710982, 234], [0.9828852596881081, 235], [0.6548529639056881, 236], [0.5722214955336686, 237], [0.9092330395175896, 238], [0.38508403647969924, 239], [0.27539842179963403, 240], [0.2725970141443994, 241], [0.7368370079988813, 242], [0.47961758568906626, 243], [0.843283185531775, 244], [0.7312152417506267, 245], [0.8002832582536434, 246], [0.33103866680821237, 247], [0.3959181855465367, 248], [0.6565948688739084, 249], [0.4739391659586868, 250], [0.6892545895146185, 251], [0.4221962983547165, 252], [0.2397619557053114, 253], [0.31950924711657436, 254], [0.21812385556379787, 255], [0.6754773795882011, 256], [0.6481228077818069, 257], [0.4389164928778973, 258], [0.6554569626843965, 259], [0.2912244168518035, 260], [0.4698715081973122, 261], [0.954676659078104, 262], [0.6311069321648712, 263], [0.37015266752621, 264], [0.6824710450896131, 265], [0.3787959934513969, 266], [0.5617895707428001, 267], [0.22758006087103116, 268], [0.310542387846812, 269], [0.46699095734626106, 270], [0.6838842717682581, 271], [0.917518221138242, 272], [0.7382152956803503, 273], [0.20235332269824935, 274], [0.6788222762164968, 275], [0.4617304815116122, 276], [0.7798442010692885, 277], [0.33743747574214744, 278], [0.7435214073602731, 279], [0.2254753904237662, 280], [0.763131436067854, 281], [0.1872338896111732, 282], [0.2726339193107256, 283], [0.12423894435174088, 284], [0.5307454320162581, 285], [0.4966370165206486, 286], [0.23478463524808263, 287], [0.2589529934048478, 288], [0.488529029399587, 289], [0.6408673081231301, 290], [0.44765461459285466, 291], [0.4392184203292782, 292], [0.47556656893362503, 293], [0.3108852746673887, 294], [0.6594669900789873, 295], [0.5575833425719936, 296], [0.3666014836747489, 297], [0.21189113895373818, 298], [0.21934127264586395, 299], [0.5371633927721016, 300], [0.30105093619851386, 301], [0.7553647852577781, 302], [0.601112593486957, 303], [0.4109653760064621, 304], [0.8619466416824189, 305], [0.4719265789285267, 306], [0.17557761283583562, 307], [0.6042563650753399, 308], [0.5326728182353118, 309], [0.6204426700951856, 310], [0.953125442437406, 311], [0.5411802045011133, 312], [0.01992275387552339, 313], [0.9561027658612042, 314], [0.6638689715994921, 315], [0.8175031686666205, 316], [0.30300098394353914, 317], [0.4330731777460627, 318], [0.932961439663002, 319], [0.8040100375046303, 320], [0.9217881248344812, 321], [0.3151378780482115, 322], [0.5928668257194086, 323], [0.9753471312286084, 324], [0.1572650782827218, 325], [0.6956229917445665, 326], [0.7915587257989329, 327], [0.24461350461149273, 328], [0.5410369690650104, 329], [0.12809623678390014, 330], [0.27454179964797687, 331], [0.23783974098936267, 332], [0.3406089262388585, 333], [0.5891332508177524, 334], [0.45646176558257967, 335], [0.29758481071819715, 336], [0.314821172416434, 337], [0.7242650036472693, 338], [0.600637552766559, 339], [0.7816771696011492, 340], [0.30479975350067084, 341], [0.7175617652636094, 342], [0.2568337628860479, 343], [0.9670709258122537, 344], [0.2979265739520076, 345], [0.8066357751183868, 346], [0.7676900183254451, 347], [0.6571209064709238, 348], [0.30460628526702765, 349], [0.6901710764057782, 350], [0.13786716021791434, 351], [0.7046348413684841, 352], [0.7399164516063457, 353], [0.4534414236374887, 354], [0.5411295585471141, 355], [0.7606493909958435, 356], [0.6376914327137592, 357], [0.3775803288518341, 358], [0.6636731954411126, 359], [0.6501672742750375, 360], [0.47202483970800085, 361], [0.38897564537507306, 362], [0.3453052825824794, 363], [0.7095478432981295, 364], [0.5888904545180152, 365], [0.527528044777587, 366], [0.43210440471728606, 367], [0.17299179570763534, 368], [0.6568795305791721, 369], [0.5854637019054924, 370], [0.13957295505489759, 371], [0.44467974359434564, 372], [0.4226692003372882, 373], [0.12609102841092212, 374], [0.7587592756687659, 375], [0.35746996234481154, 376], [0.3348866747139442, 377], [0.10077492813040823, 378], [0.28105832019441357, 379], [0.37747592252744966, 380], [0.358529157066244, 381], [0.4882263091855195, 382], [0.7359888014798096, 383], [0.6910337044096787, 384], [0.3335289272068126, 385], [0.6135710927810523, 386], [0.5025780911853204, 387], [0.44099508425262146, 388], [0.7160195998552998, 389], [0.4156590643826157, 390], [0.33781641255477823, 391], [0.2546849952873556, 392], [0.23554743484075374, 393], [0.7229485021250602, 394], [0.33350219802915804, 395], [0.7437345791183136, 396], [0.6572935230894834, 397], [0.5260629771045305, 398], [0.9592265277246326, 399], [0.20876519151722606, 400], [0.37833747891396474, 401], [0.3396184661132109, 402], [0.6035188162201659, 403], [0.11964393058530393, 404], [0.9436430510597715, 405], [0.6173511243147944, 406], [0.5404872538129419, 407], [0.2468586443007158, 408], [0.5480146930856225, 409], [0.3827593456158264, 410], [0.7197344025037935, 411], [0.5820328473017011, 412], [0.3639153198527558, 413], [0.2955704559941421, 414], [0.3521657747343624, 415], [0.4990074910714692, 416], [0.6890109503876257, 417], [0.27950359562175575, 418], [0.7439642989327814, 419], [0.44515475311324915, 420], [0.1563038949330648, 421], [0.6275921286358725, 422], [0.08067034176452054, 423], [0.058043216887052995, 424], [0.5054114303630555, 425], [0.14888310625637163, 426], [0.6470181506884165, 427], [0.35655802572812395, 428], [0.9572844584005291, 429], [0.47466259085092427, 430], [0.3149447177819873, 431], [0.9531698459426035, 432], [0.36864798602672444, 433], [0.6601428059370882, 434], [0.5305593259210948, 435], [0.12545276081568962, 436], [0.7094718525813246, 437], [0.5068302245639791, 438], [0.5919384076621075, 439], [0.6677425030478403, 440], [0.034652310352426774, 441], [0.1699604237610403, 442], [0.6620313710182985, 443], [0.9771841348459023, 444], [0.5466771274329288, 445], [0.5142329388393168, 446], [0.44835399604768245, 447], [0.3251270203450937, 448], [0.1703414430482144, 449], [0.2756003127168729, 450], [0.5547961949015481, 451], [0.16835352163771905, 452], [0.38494927428435777, 453], [0.11513960330102141, 454], [0.40434802039199447, 455], [0.5136651485836801, 456], [0.18726942784848216, 457], [0.8482665405587666, 458], [0.3952505117061695, 459], [0.3698801712547241, 460], [0.2467860679252048, 461], [0.6840320333183548, 462], [0.6685762734484844, 463], [0.522588360019404, 464], [0.6627730625842994, 465], [0.3513148303650477, 466], [0.37943126937243715, 467], [0.8514743997047896, 468], [0.7794030575028672, 469], [0.7670007171516342, 470], [0.572906077382203, 471], [0.5279087348624301, 472], [0.12034312042560874, 473], [0.37635574637105457, 474], [0.5870378055497918, 475], [0.7345331537795978, 476], [0.1405750051076075, 477], [0.28801970402319893, 478], [0.5643457593615797, 479], [0.6518178376537467, 480], [0.654437336026684, 481], [0.43073402671621336, 482], [0.9269276102155846, 483], [0.2982011356290656, 484], [0.9139012839054796, 485], [0.8282114101411974, 486], [0.4835818547636539, 487], [0.5814040737788309, 488], [0.6730560197764358, 489], [0.2495464562882856, 490], [0.6296828991143637, 491], [0.5843370150293287, 492], [0.7928648163814288, 493], [0.25037294049681247, 494], [0.5251319340818335, 495], [0.05522395498333399, 496], [0.7120480190085661, 497], [0.36405384981201416, 498], [0.2950492190357137, 499], [0.14055926303148342, 500], [0.1663839229104601, 501], [0.3773270618136859, 502], [0.6086067872070718, 503], [0.17955935754307756, 504], [0.31351598550661564, 505], [0.4381483024042599, 506], [0.45204647103460277, 507], [0.6004638963017431, 508], [0.7507335583204846, 509], [0.002885284130806298, 510], [0.24698109089742365, 511], [0.651019478411932, 512], [0.14432821775298116, 513], [0.7428547699243968, 514], [0.47866915517290104, 515], [0.6322210505845137, 516], [0.9153596181797164, 517], [0.6469546088010559, 518], [0.8184723668239591, 519], [0.6088659085830037, 520], [0.8886929730666433, 521], [0.2614794931115098, 522], [0.1997387335794764, 523], [0.7034742448698764, 524], [0.9237953731615787, 525], [0.7656722197640968, 526], [0.5481313809846788, 527], [0.8431510751842473, 528], [0.25297826499868215, 529], [0.2722744387051238, 530], [0.3428890313955006, 531], [0.37465951045174767, 532], [0.21749107496100178, 533], [0.5362005691412858, 534], [0.6539535634177134, 535], [0.3466726880061335, 536], [0.17944511721018935, 537], [0.431362108628838, 538], [0.9422859591516255, 539], [0.5564777377005242, 540], [0.2191667707634659, 541], [0.4976994943531145, 542], [0.501495357941432, 543], [0.5460403929573215, 544], [0.4753026011602802, 545], [0.4817023320783713, 546], [0.4064256881741008, 547], [0.3519140479183436, 548], [0.552891691650178, 549], [0.6562376827648364, 550], [0.5281798009031329, 551], [0.8098378789839737, 552], [0.47829648156240945, 553], [0.4281415810008047, 554], [0.6920789496845307, 555], [0.2368250739531767, 556], [0.42618483662698115, 557], [0.4472295375379193, 558], [0.2241081076881788, 559], [0.337798025347391, 560], [0.4869641604425741, 561], [0.23196560602608146, 562], [0.5341757135399288, 563], [0.0178742740693566, 564], [0.8465279436400697, 565], [0.32604524502932586, 566], [0.7272618885662328, 567], [0.1453930744539046, 568], [0.6852625123627332, 569], [0.22259647332817195, 570], [0.5786500715267564, 571], [0.4460904784626699, 572], [0.7328423081354816, 573], [0.6072156896435421, 574], [0.2174857253257328, 575], [0.7550709800228348, 576], [0.20779060921617737, 577], [0.5047596110392195, 578], [0.9720117541924347, 579], [0.7813483495276897, 580], [0.7276584388213438, 581], [0.500505487711695, 582], [0.7505790564170913, 583], [0.3794062888674862, 584], [0.43792547880299076, 585], [0.42452720504511937, 586], [0.20009888118707558, 587], [0.4183080058086138, 588], [0.45454378578551363, 589], [0.4123670873946526, 590], [0.3607864164764508, 591], [0.22470621076044628, 592], [0.7987369875325038, 593], [0.33145748644961026, 594], [0.22421092267497744, 595], [0.18019233328725726, 596], [0.6849853510053563, 597], [0.4524504333342127, 598], [0.31071294319618764, 599], [0.966291075602191, 600], [0.6236634033457569, 601], [0.6464416388782648, 602], [0.17108879984544184, 603], [0.4541097596635588, 604], [0.7435983448656098, 605], [0.6645425771417355, 606], [0.6144699057468459, 607], [0.5646063421407864, 608], [0.24631706128061748, 609], [0.6995536408721712, 610], [0.43324700248224757, 611], [0.2886181005524295, 612], [0.429167179144409, 613], [0.32957970289937943, 614], [0.6437789528466837, 615], [0.5676805852857973, 616], [0.42765514335555377, 617], [0.652239642431252, 618], [0.6559123954291723, 619], [0.7201556047750874, 620], [0.5977242037474071, 621], [0.5069995000958458, 622], [0.38152703068476934, 623], [0.8915045460638613, 624], [0.6212745864686491, 625], [0.20183780610060753, 626], [0.3219618168888882, 627], [0.19304158222333495, 628], [0.6519712392469178, 629], [0.1886179844988522, 630], [0.4362836923869879, 631], [0.28295097563946736, 632], [0.3157999155418336, 633], [0.7103788626769356, 634], [0.7164523853687077, 635], [0.49570737197826764, 636], [0.40542161283595435, 637], [0.36830048051445696, 638], [0.6523528125579323, 639], [0.7411424920398271, 640], [0.4133078222104007, 641], [0.44994463986737976, 642], [0.7251286682011533, 643], [0.32265427758097326, 644], [0.34146926512326725, 645], [0.4982367186893678, 646], [0.5594684518639164, 647], [0.47260592582590405, 648], [0.6596725936615666, 649], [0.3538111726802816, 650], [0.4488212190911767, 651], [0.36182632087452216, 652], [0.13661770670453188, 653], [0.5474793851670667, 654], [0.2088477063719546, 655], [0.8867967904504699, 656], [0.23717637404356362, 657], [0.6788930581196704, 658], [0.6835529221181254, 659], [0.8750057686658956, 660], [0.46488254962650366, 661], [0.2772602552283616, 662], [0.48553495069464336, 663], [0.713321246137145, 664], [0.42958972219672487, 665], [0.56751031118978, 666], [0.8949139307404843, 667], [0.43778831798739065, 668], [0.4464319292675857, 669], [0.3639968032206043, 670], [0.3982009607679273, 671], [0.22090934260186906, 672], [0.10605689427812537, 673], [0.3076191164476837, 674], [0.23533384121657175, 675], [0.7249266454183358, 676], [0.48099663505526036, 677], [0.32937051908859544, 678], [0.7261561479737626, 679], [0.9694368020375859, 680], [0.31181573527311757, 681], [0.6081864555389247, 682], [0.651885914591848, 683], [0.5479447365023533, 684], [0.32503964975215177, 685], [0.9802650015453027, 686], [0.7549978704474872, 687], [0.3226260156059517, 688], [0.529382183421248, 689], [0.6202772105228656, 690], [0.5809754433214553, 691], [0.4714284299194883, 692], [0.5114563354653057, 693], [0.367685451995997, 694], [0.5428147182083718, 695], [0.9575176280147393, 696], [0.3949477079313026, 697], [0.5128820022383876, 698], [0.72682793962033, 699], [0.10804941644394389, 700], [0.43442838021224334, 701], [0.15144722827282864, 702], [0.258730267745122, 703], [0.4659990208248816, 704], [0.23839693503029247, 705], [0.5655951057856339, 706], [0.2572284692466579, 707], [0.4410874402912799, 708], [0.3521986383579759, 709], [0.8087962235358562, 710], [0.7608543912902278, 711], [0.8130942954207493, 712], [0.5462314757563792, 713], [0.4061289408911735, 714], [0.40300614973194493, 715], [0.3991728675991392, 716], [0.6053925134000026, 717], [0.3551864747740985, 718], [0.9150689899632423, 719], [0.3378705006942966, 720], [0.6963169367358862, 721], [0.43966241325052324, 722], [0.5383435849550178, 723], [0.4275096343055414, 724], [0.6180728929403985, 725], [0.5343278304705315, 726], [0.4072807889389308, 727], [0.13587209152028984, 728], [0.44433465506586267, 729], [0.9060570113847439, 730], [0.4872529689715419, 731], [0.6867329767643247, 732], [0.3105570285493412, 733], [0.37559627400147094, 734], [0.33542978033192206, 735], [0.47401864102702307, 736], [0.8024977168880343, 737], [0.550068682873395, 738], [0.17084543195188712, 739], [0.34714832736482526, 740], [0.5967818334413275, 741], [0.6482595887781574, 742], [0.3935795622763132, 743], [0.20039184940556787, 744], [0.6963102242978387, 745], [0.3759012733849637, 746], [0.5491146801008294, 747], [0.30974206814427147, 748], [0.19863861569280444, 749], [0.6924762484451015, 750], [0.6290814059046264, 751], [0.28804188836254996, 752], [0.2610396376298484, 753], [0.7878225681538726, 754], [0.6707554361368329, 755], [0.7536740564439287, 756], [0.9407863958568294, 757], [0.6204858455277555, 758], [0.523829891305974, 759], [0.47215616761505075, 760], [0.9217079235544523, 761], [0.3137727039888347, 762], [0.7438832420102598, 763], [0.4876669583089936, 764], [0.3985250548322947, 765], [0.5155559160386917, 766], [0.9050355693960186, 767], [0.1763864049104768, 768], [0.6537614585294285, 769], [0.4633002549697065, 770], [0.4093150683828969, 771], [0.3126007343645031, 772], [0.7097348289857921, 773], [0.36784087892305783, 774], [0.9357512917260509, 775], [0.9448663174620194, 776], [0.1910349496591186, 777], [0.32044509249405617, 778], [0.6577447107503432, 779], [0.5265717520840815, 780], [0.5371190260855991, 781], [0.621309374509665, 782], [0.25099972188442843, 783], [0.5089070836833175, 784], [0.23972547548575057, 785], [0.6650258840480907, 786], [0.29781301794472936, 787], [0.5079388706818162, 788], [0.1984912007814032, 789], [0.4177810897372635, 790], [0.30393434136234987, 791], [0.4777204929732367, 792], [0.39663962270360925, 793], [0.5922202237238272, 794], [0.32594474548682495, 795], [0.3994688743132037, 796], [0.2622262716486848, 797], [0.29262184772548483, 798], [0.5240397624723492, 799], [0.28423517649385277, 800], [0.560884083009876, 801], [0.32179786289168555, 802], [0.6821185194706346, 803], [0.35299459354296037, 804], [0.6456881078053618, 805], [0.8264295867352163, 806], [0.6727849143413702, 807], [0.6337460578482541, 808], [0.7511304509751444, 809], [0.694599807934548, 810], [0.4616515969274273, 811], [0.7866374804429248, 812], [0.5914620453128975, 813], [0.8016763319099114, 814], [0.019135492721075398, 815], [0.20296203417569597, 816], [0.7357281936614912, 817], [0.20442897212452293, 818], [0.5116288835831228, 819], [0.2984086379748049, 820], [0.5159221825851772, 821], [0.5255883169324108, 822], [0.40587084629557324, 823], [0.4892603533992987, 824], [0.4087379355941163, 825], [0.2668160183644661, 826], [0.5565513666400497, 827], [0.6535772652821329, 828], [0.6020231002169911, 829], [0.7485879207312356, 830], [0.5560243246373082, 831], [0.6209782810369966, 832], [0.5021406889270227, 833], [0.62325836439119, 834], [0.43886784826416847, 835], [0.4313685708354721, 836], [0.5633469380569467, 837], [0.21303349943808247, 838], [0.7160569996418549, 839], [0.6023950309984766, 840], [0.3969357948568586, 841], [0.5222183113193891, 842], [0.495391202985948, 843], [0.6770170924209851, 844], [0.7745835237833489, 845], [0.7448158071982975, 846], [0.19327519341281046, 847], [0.8215886547861889, 848], [0.934018897272466, 849], [0.18309678551669928, 850], [0.5965086422727026, 851], [0.4053150639146515, 852], [0.8308328800403781, 853], [0.6098369591610785, 854], [0.4250174619772519, 855], [0.9361581974924404, 856], [0.14082082982935534, 857], [0.7736055044960441, 858], [0.5392783775558009, 859], [0.8706428458431037, 860], [0.09711714997311482, 861], [0.44642583345223413, 862], [0.9199975363095121, 863], [0.6080785456857887, 864], [0.4040996148830749, 865], [0.15358485155664592, 866], [0.41667718725128067, 867], [0.652057413505098, 868], [0.028922478005463437, 869], [0.8170530091438934, 870], [0.17472389307576142, 871], [0.6254000453157199, 872], [0.4259797443569495, 873], [0.43588412892467715, 874], [0.6706871732307245, 875], [0.5045560959819673, 876], [0.7352409361560525, 877], [0.7026123140553175, 878], [0.42919256210668283, 879], [0.414053882721917, 880], [0.5177464918744032, 881], [0.3744761452948533, 882], [0.13060282352955466, 883], [0.7941239168498018, 884], [0.16911695572655255, 885], [0.44298973607004327, 886], [0.4236331836655139, 887], [0.8290015233172574, 888], [0.7540809500032599, 889], [0.4322920365231518, 890], [0.44143757398793215, 891], [0.5355988732635849, 892], [0.5699418879079963, 893], [0.6443738708217139, 894], [0.5197523837093566, 895], [0.2890806398666842, 896], [0.45384242510708367, 897], [0.6643508338483094, 898], [0.5074936427959493, 899], [0.42936780595867996, 900], [0.44138170498132157, 901], [0.41610199071517495, 902], [0.9033330597567188, 903], [0.8863818473920239, 904], [0.37938705724606936, 905], [0.8020903206516887, 906], [0.5632765129324402, 907], [0.6551297574282742, 908], [0.2633460307944435, 909], [0.177191101979569, 910], [0.7372705834023691, 911], [0.554395697917921, 912], [0.8165714388229756, 913], [0.5595746404891345, 914], [0.410212515342777, 915], [0.31728437810965604, 916], [0.7518789405941506, 917], [0.6625939152055065, 918], [0.5632700732826632, 919], [0.5055211693115117, 920], [0.7107746196848667, 921], [0.9316884472921645, 922], [0.19456651163496935, 923], [0.8947275025258543, 924], [0.3502396756709326, 925], [0.13065576564731962, 926], [0.4322334529656169, 927], [0.6738305724347144, 928], [0.27900076493894815, 929], [0.528536389219587, 930], [0.7774596929317203, 931], [0.29821118763357257, 932], [0.48493195385179044, 933], [0.5833206432808027, 934], [0.5518831045556674, 935], [0.7554942867168857, 936], [0.5505645328552172, 937], [0.23815764247139481, 938], [0.17221957253394765, 939], [0.610125423567832, 940], [0.5870168215855993, 941], [0.25613997150550616, 942], [0.4581970110369107, 943], [0.4139717976081714, 944], [0.9640940407359321, 945], [0.4310465087173862, 946], [0.9208765465772151, 947], [0.6780534767447866, 948], [0.5412625594713573, 949], [0.9552231048497752, 950], [0.19840280649297293, 951], [0.677628476046219, 952], [0.602595869955509, 953], [0.23515625675859714, 954], [0.39275105909131247, 955], [0.6558347335563174, 956], [0.05981276144518177, 957], [0.4734960408975462, 958], [0.4255517569838013, 959], [0.4272416104976671, 960], [0.6590329849532445, 961], [0.7572999162706128, 962], [0.3519046061454138, 963], [0.8008282610787786, 964], [0.7203724369361387, 965], [0.6548508671180706, 966], [0.458548802099495, 967], [0.9032093400765615, 968], [0.9668365946853059, 969], [0.6180547174957564, 970], [0.3758755560114584, 971], [0.43863662089198363, 972], [0.9722075819586355, 973], [0.893084104333753, 974], [0.509486472192436, 975], [0.19133507110980064, 976], [0.6156604704964718, 977], [0.34095546292064866, 978], [0.4419686545633972, 979], [0.22840446408660342, 980], [0.46378832529458863, 981], [0.4291485896139481, 982], [0.3806328107117015, 983], [0.16506087603633973, 984], [0.768261260323245, 985], [0.7026530083943945, 986], [0.7703363305365023, 987], [0.6352015337809949, 988], [0.4440815594127528, 989], [0.8461854546269348, 990], [0.9458261094124236, 991], [0.12886484394627157, 992], [0.7658085530498192, 993], [0.21904573689001966, 994], [0.39403280386447836, 995], [0.3877212497861673, 996], [0.22565645570229892, 997], [0.42675281112702595, 998], [0.3289677250709653, 999]]\n",
            "[[0.995188439361238, 146], [0.9828852596881081, 235], [0.9802650015453027, 686], [0.9771841348459023, 444], [0.9753471312286084, 324]]\n",
            "users similar to 3 are [146, 235, 686, 444, 324]\n"
          ],
          "name": "stdout"
        }
      ]
    },
    {
      "cell_type": "markdown",
      "metadata": {
        "id": "6Ne1X2qBMmcr",
        "colab_type": "text"
      },
      "source": [
        "### Till this the users who have a similar store pattern are picked from the lot"
      ]
    },
    {
      "cell_type": "code",
      "metadata": {
        "id": "4hyeRtchw5W4",
        "colab_type": "code",
        "outputId": "74210551-927a-4eb0-920a-d3bb235670bc",
        "colab": {
          "base_uri": "https://localhost:8080/",
          "height": 34
        }
      },
      "source": [
        "sim = pd.DataFrame()\n",
        "avg = []\n",
        "for i in range(256):\n",
        "  if i not in fav_stores:\n",
        "    l=pdf[str(i)].loc[similar].values\n",
        "    dist = [np.linalg.norm(l[i]-l[i+1]) for i in range(len(l)-1)]\n",
        "    avg.append([i,(sum(dist)/len(dist))])\n",
        "avg = sorted(avg)\n",
        "print(\"suggested store is {}\".format(avg[0][0]))"
      ],
      "execution_count": 0,
      "outputs": [
        {
          "output_type": "stream",
          "text": [
            "suggested store is 0\n"
          ],
          "name": "stdout"
        }
      ]
    },
    {
      "cell_type": "markdown",
      "metadata": {
        "id": "KPtesFxlM09G",
        "colab_type": "text"
      },
      "source": [
        "### The recommender system has suggested store 0 by finding mean euclidean distance btwn the users that were found similar."
      ]
    },
    {
      "cell_type": "code",
      "metadata": {
        "id": "lkLmEYsKyN0j",
        "colab_type": "code",
        "colab": {}
      },
      "source": [
        "print(list(zip(d[0].values.tolist(),d[3].values.tolist())))"
      ],
      "execution_count": 0,
      "outputs": []
    },
    {
      "cell_type": "code",
      "metadata": {
        "id": "GbLWCNENjvff",
        "colab_type": "code",
        "colab": {}
      },
      "source": [
        "# for i in range(256):\n",
        "#   if i not in fav_stores:\n",
        "#     new_stores = pdf[str(i)].loc[similar]\n",
        "    \n"
      ],
      "execution_count": 0,
      "outputs": []
    },
    {
      "cell_type": "code",
      "metadata": {
        "id": "tumEyfl4XgBd",
        "colab_type": "code",
        "colab": {}
      },
      "source": [
        "# def recommend(pdf,d,l,uix):\n",
        "#   cos_sim_val = find_similarity(uix,pdf,d,l)\n",
        "#   print(cos_sim_val)"
      ],
      "execution_count": 0,
      "outputs": []
    },
    {
      "cell_type": "code",
      "metadata": {
        "id": "9P7LbwfScjU2",
        "colab_type": "code",
        "colab": {}
      },
      "source": [
        "\n"
      ],
      "execution_count": 0,
      "outputs": []
    },
    {
      "cell_type": "code",
      "metadata": {
        "id": "sv3PdZs6X0Gc",
        "colab_type": "code",
        "colab": {}
      },
      "source": [
        "# recommend(pdf,d,l,0)"
      ],
      "execution_count": 0,
      "outputs": []
    }
  ]
}